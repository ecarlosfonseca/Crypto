{
 "cells": [
  {
   "cell_type": "code",
   "execution_count": 35,
   "metadata": {
    "ExecuteTime": {
     "end_time": "2021-05-05T16:06:41.939950Z",
     "start_time": "2021-05-05T16:06:38.020022Z"
    }
   },
   "outputs": [],
   "source": [
    "import pandas as pd\n",
    "import requests\n",
    "from requests.exceptions import ConnectionError, Timeout, TooManyRedirects\n",
    "from datetime import datetime\n",
    "\n",
    "import matplotlib.pyplot as plt\n",
    "import seaborn as sns"
   ]
  },
  {
   "cell_type": "markdown",
   "metadata": {},
   "source": [
    "# Getting coin Ids"
   ]
  },
  {
   "cell_type": "code",
   "execution_count": 2,
   "metadata": {
    "ExecuteTime": {
     "end_time": "2021-05-05T15:15:04.535393Z",
     "start_time": "2021-05-05T15:15:04.287193Z"
    }
   },
   "outputs": [],
   "source": [
    "url = 'https://api.coingecko.com/api/v3/coins/list?include_platform=false'\n",
    "# no key required\n",
    "\n",
    "parameters = {\n",
    "    'include_platform': False\n",
    "}\n",
    "\n",
    "try:\n",
    "  response = requests.get(url)\n",
    "except (ConnectionError, Timeout, TooManyRedirects) as e:\n",
    "  print(e)"
   ]
  },
  {
   "cell_type": "code",
   "execution_count": 3,
   "metadata": {
    "ExecuteTime": {
     "end_time": "2021-05-05T15:15:04.571580Z",
     "start_time": "2021-05-05T15:15:04.539423Z"
    }
   },
   "outputs": [],
   "source": [
    "ids = pd.DataFrame(response.json())"
   ]
  },
  {
   "cell_type": "code",
   "execution_count": 4,
   "metadata": {
    "ExecuteTime": {
     "end_time": "2021-05-05T15:15:04.607950Z",
     "start_time": "2021-05-05T15:15:04.573665Z"
    }
   },
   "outputs": [
    {
     "data": {
      "text/html": [
       "<div>\n",
       "<style scoped>\n",
       "    .dataframe tbody tr th:only-of-type {\n",
       "        vertical-align: middle;\n",
       "    }\n",
       "\n",
       "    .dataframe tbody tr th {\n",
       "        vertical-align: top;\n",
       "    }\n",
       "\n",
       "    .dataframe thead th {\n",
       "        text-align: right;\n",
       "    }\n",
       "</style>\n",
       "<table border=\"1\" class=\"dataframe\">\n",
       "  <thead>\n",
       "    <tr style=\"text-align: right;\">\n",
       "      <th></th>\n",
       "      <th>id</th>\n",
       "      <th>symbol</th>\n",
       "      <th>name</th>\n",
       "    </tr>\n",
       "  </thead>\n",
       "  <tbody>\n",
       "    <tr>\n",
       "      <th>0</th>\n",
       "      <td>01coin</td>\n",
       "      <td>zoc</td>\n",
       "      <td>01coin</td>\n",
       "    </tr>\n",
       "    <tr>\n",
       "      <th>1</th>\n",
       "      <td>0-5x-long-algorand-token</td>\n",
       "      <td>algohalf</td>\n",
       "      <td>0.5X Long Algorand Token</td>\n",
       "    </tr>\n",
       "    <tr>\n",
       "      <th>2</th>\n",
       "      <td>0-5x-long-altcoin-index-token</td>\n",
       "      <td>althalf</td>\n",
       "      <td>0.5X Long Altcoin Index Token</td>\n",
       "    </tr>\n",
       "    <tr>\n",
       "      <th>3</th>\n",
       "      <td>0-5x-long-balancer-token</td>\n",
       "      <td>balhalf</td>\n",
       "      <td>0.5X Long Balancer Token</td>\n",
       "    </tr>\n",
       "    <tr>\n",
       "      <th>4</th>\n",
       "      <td>0-5x-long-bitcoin-cash-token</td>\n",
       "      <td>bchhalf</td>\n",
       "      <td>0.5X Long Bitcoin Cash Token</td>\n",
       "    </tr>\n",
       "  </tbody>\n",
       "</table>\n",
       "</div>"
      ],
      "text/plain": [
       "                              id    symbol                           name\n",
       "0                         01coin       zoc                         01coin\n",
       "1       0-5x-long-algorand-token  algohalf       0.5X Long Algorand Token\n",
       "2  0-5x-long-altcoin-index-token   althalf  0.5X Long Altcoin Index Token\n",
       "3       0-5x-long-balancer-token   balhalf       0.5X Long Balancer Token\n",
       "4   0-5x-long-bitcoin-cash-token   bchhalf   0.5X Long Bitcoin Cash Token"
      ]
     },
     "execution_count": 4,
     "metadata": {},
     "output_type": "execute_result"
    }
   ],
   "source": [
    "ids.head()"
   ]
  },
  {
   "cell_type": "code",
   "execution_count": 57,
   "metadata": {
    "ExecuteTime": {
     "end_time": "2021-05-05T16:34:12.960942Z",
     "start_time": "2021-05-05T16:34:12.926937Z"
    }
   },
   "outputs": [
    {
     "name": "stdout",
     "output_type": "stream",
     "text": [
      "          id symbol     name\n",
      "846  bitcoin    btc  Bitcoin\n",
      "            id symbol      name\n",
      "2370  ethereum    eth  Ethereum\n",
      "              id symbol          name\n",
      "799  binancecoin    bnb  Binance Coin\n",
      "           id symbol     name\n",
      "6407  vechain    vet  VeChain\n",
      "               id symbol        name\n",
      "998  bittorrent-2    btt  BitTorrent\n",
      "                  id symbol            name\n",
      "3074       holotoken    hot            Holo\n",
      "3099          hotnow    hot          HotNow\n",
      "3141  hydro-protocol    hot  Hydro Protocol\n"
     ]
    }
   ],
   "source": [
    "print(ids[ids.name=='Bitcoin'])\n",
    "print(ids[ids.name=='Ethereum'])\n",
    "print(ids[ids.symbol=='bnb'])\n",
    "print(ids[ids.symbol=='vet'])\n",
    "print(ids[ids.symbol=='btt'])\n",
    "print(ids[ids.symbol=='hot'])"
   ]
  },
  {
   "cell_type": "markdown",
   "metadata": {},
   "source": [
    "# Getting Coin historical data"
   ]
  },
  {
   "cell_type": "markdown",
   "metadata": {},
   "source": [
    "In CoinGecko API you can research:\n",
    "\n",
    "- Coin historical data for a specific date with coins/id/history\n",
    "- Historical data for one coin for several days with coins/id.market_chart\n",
    "\n",
    "It is not possible to colect data for deveral coins at the same time"
   ]
  },
  {
   "cell_type": "code",
   "execution_count": 87,
   "metadata": {
    "ExecuteTime": {
     "end_time": "2021-05-05T16:52:08.469038Z",
     "start_time": "2021-05-05T16:52:08.452504Z"
    }
   },
   "outputs": [],
   "source": [
    "def get_db(coin: str, symbol: str) -> pd.DataFrame:\n",
    "    \"\"\"\n",
    "    Transforms the API response in a dataframe with a date column\n",
    "    \n",
    "    Arguments:\n",
    "    - coin: the name of the coin (lowercase) from the collected ids\n",
    "    - symbol: coin symbol to use on the columns\n",
    "    Outputs:\n",
    "    - coin_df: Pandas DataFrame with historical data available and a data column\n",
    "    \"\"\"\n",
    "    \n",
    "    btc_url = 'https://api.coingecko.com/api/v3/coins/{}/market_chart?vs_currency=usd&days=max&interval=daily'.format(coin)\n",
    "    \n",
    "    parameters = {\n",
    "        'id': coin,\n",
    "        'vs_coin': 'usd',\n",
    "        'days': 'max',\n",
    "        'interval': 'daily'\n",
    "    }\n",
    "\n",
    "    try:\n",
    "      response = requests.get(btc_url)\n",
    "    except (ConnectionError, Timeout, TooManyRedirects) as e:\n",
    "      print(e)\n",
    "    \n",
    "    coin_df = pd.DataFrame()\n",
    "    counter = 0\n",
    "    for key in list(response.json().keys()):\n",
    "        if counter == 0:\n",
    "            coin_df = pd.DataFrame(response.json()[key])\n",
    "            coin_df.columns = ['timestamp', key]\n",
    "        else:\n",
    "            df = pd.DataFrame(response.json()[key])\n",
    "            df.columns = ['timestamp', key]\n",
    "            coin_df = coin_df.merge(df, on = 'timestamp', how = 'left')\n",
    "        counter =+ 1\n",
    "    coin_df['date'] = coin_df.timestamp.apply(lambda x: datetime.fromtimestamp(x/1000)).dt.date\n",
    "    \n",
    "    print(coin_df.total_volumes.isnull().sum())\n",
    "    print(coin_df.prices.isnull().sum())\n",
    "    \n",
    "    coin_df.columns = ['timestamp', symbol + '_price', symbol + '_market_cap', symbol + '_volume', 'date']\n",
    "    \n",
    "    return coin_df\n"
   ]
  },
  {
   "cell_type": "code",
   "execution_count": 88,
   "metadata": {
    "ExecuteTime": {
     "end_time": "2021-05-05T16:52:09.288617Z",
     "start_time": "2021-05-05T16:52:08.959950Z"
    }
   },
   "outputs": [
    {
     "name": "stdout",
     "output_type": "stream",
     "text": [
      "0\n",
      "0\n"
     ]
    }
   ],
   "source": [
    "BTC = get_db('bitcoin', 'btc')"
   ]
  },
  {
   "cell_type": "code",
   "execution_count": 89,
   "metadata": {
    "ExecuteTime": {
     "end_time": "2021-05-05T16:52:10.703343Z",
     "start_time": "2021-05-05T16:52:10.685570Z"
    }
   },
   "outputs": [
    {
     "data": {
      "text/html": [
       "<div>\n",
       "<style scoped>\n",
       "    .dataframe tbody tr th:only-of-type {\n",
       "        vertical-align: middle;\n",
       "    }\n",
       "\n",
       "    .dataframe tbody tr th {\n",
       "        vertical-align: top;\n",
       "    }\n",
       "\n",
       "    .dataframe thead th {\n",
       "        text-align: right;\n",
       "    }\n",
       "</style>\n",
       "<table border=\"1\" class=\"dataframe\">\n",
       "  <thead>\n",
       "    <tr style=\"text-align: right;\">\n",
       "      <th></th>\n",
       "      <th>timestamp</th>\n",
       "      <th>btc_price</th>\n",
       "      <th>btc_market_cap</th>\n",
       "      <th>btc_volume</th>\n",
       "      <th>date</th>\n",
       "    </tr>\n",
       "  </thead>\n",
       "  <tbody>\n",
       "    <tr>\n",
       "      <th>2923</th>\n",
       "      <td>1619827200000</td>\n",
       "      <td>57828.511814</td>\n",
       "      <td>1.082722e+12</td>\n",
       "      <td>5.387905e+10</td>\n",
       "      <td>2021-05-01</td>\n",
       "    </tr>\n",
       "    <tr>\n",
       "      <th>2924</th>\n",
       "      <td>1619913600000</td>\n",
       "      <td>57812.969160</td>\n",
       "      <td>1.080898e+12</td>\n",
       "      <td>4.396707e+10</td>\n",
       "      <td>2021-05-02</td>\n",
       "    </tr>\n",
       "    <tr>\n",
       "      <th>2925</th>\n",
       "      <td>1620000000000</td>\n",
       "      <td>56600.745287</td>\n",
       "      <td>1.057850e+12</td>\n",
       "      <td>3.907266e+10</td>\n",
       "      <td>2021-05-03</td>\n",
       "    </tr>\n",
       "    <tr>\n",
       "      <th>2926</th>\n",
       "      <td>1620086400000</td>\n",
       "      <td>57200.300299</td>\n",
       "      <td>1.069571e+12</td>\n",
       "      <td>5.413247e+10</td>\n",
       "      <td>2021-05-04</td>\n",
       "    </tr>\n",
       "    <tr>\n",
       "      <th>2927</th>\n",
       "      <td>1620226112000</td>\n",
       "      <td>56379.300332</td>\n",
       "      <td>1.054319e+12</td>\n",
       "      <td>7.188970e+10</td>\n",
       "      <td>2021-05-05</td>\n",
       "    </tr>\n",
       "  </tbody>\n",
       "</table>\n",
       "</div>"
      ],
      "text/plain": [
       "          timestamp     btc_price  btc_market_cap    btc_volume        date\n",
       "2923  1619827200000  57828.511814    1.082722e+12  5.387905e+10  2021-05-01\n",
       "2924  1619913600000  57812.969160    1.080898e+12  4.396707e+10  2021-05-02\n",
       "2925  1620000000000  56600.745287    1.057850e+12  3.907266e+10  2021-05-03\n",
       "2926  1620086400000  57200.300299    1.069571e+12  5.413247e+10  2021-05-04\n",
       "2927  1620226112000  56379.300332    1.054319e+12  7.188970e+10  2021-05-05"
      ]
     },
     "execution_count": 89,
     "metadata": {},
     "output_type": "execute_result"
    }
   ],
   "source": [
    "BTC.tail()"
   ]
  },
  {
   "cell_type": "code",
   "execution_count": 90,
   "metadata": {
    "ExecuteTime": {
     "end_time": "2021-05-05T16:52:13.437620Z",
     "start_time": "2021-05-05T16:52:13.432786Z"
    }
   },
   "outputs": [
    {
     "data": {
      "text/plain": [
       "(2928, 5)"
      ]
     },
     "execution_count": 90,
     "metadata": {},
     "output_type": "execute_result"
    }
   ],
   "source": [
    "BTC.shape"
   ]
  },
  {
   "cell_type": "code",
   "execution_count": 91,
   "metadata": {
    "ExecuteTime": {
     "end_time": "2021-05-05T16:52:16.304625Z",
     "start_time": "2021-05-05T16:52:15.328850Z"
    }
   },
   "outputs": [
    {
     "name": "stdout",
     "output_type": "stream",
     "text": [
      "0\n",
      "0\n"
     ]
    }
   ],
   "source": [
    "ETH = get_db('ethereum', 'eth')"
   ]
  },
  {
   "cell_type": "code",
   "execution_count": 92,
   "metadata": {
    "ExecuteTime": {
     "end_time": "2021-05-05T16:52:16.343108Z",
     "start_time": "2021-05-05T16:52:16.338388Z"
    }
   },
   "outputs": [
    {
     "data": {
      "text/html": [
       "<div>\n",
       "<style scoped>\n",
       "    .dataframe tbody tr th:only-of-type {\n",
       "        vertical-align: middle;\n",
       "    }\n",
       "\n",
       "    .dataframe tbody tr th {\n",
       "        vertical-align: top;\n",
       "    }\n",
       "\n",
       "    .dataframe thead th {\n",
       "        text-align: right;\n",
       "    }\n",
       "</style>\n",
       "<table border=\"1\" class=\"dataframe\">\n",
       "  <thead>\n",
       "    <tr style=\"text-align: right;\">\n",
       "      <th></th>\n",
       "      <th>timestamp</th>\n",
       "      <th>eth_price</th>\n",
       "      <th>eth_market_cap</th>\n",
       "      <th>eth_volume</th>\n",
       "      <th>date</th>\n",
       "    </tr>\n",
       "  </thead>\n",
       "  <tbody>\n",
       "    <tr>\n",
       "      <th>2093</th>\n",
       "      <td>1619827200000</td>\n",
       "      <td>2776.703712</td>\n",
       "      <td>3.211558e+11</td>\n",
       "      <td>3.547788e+10</td>\n",
       "      <td>2021-05-01</td>\n",
       "    </tr>\n",
       "    <tr>\n",
       "      <th>2094</th>\n",
       "      <td>1619913600000</td>\n",
       "      <td>2944.916947</td>\n",
       "      <td>3.407302e+11</td>\n",
       "      <td>3.672165e+10</td>\n",
       "      <td>2021-05-02</td>\n",
       "    </tr>\n",
       "    <tr>\n",
       "      <th>2095</th>\n",
       "      <td>1620000000000</td>\n",
       "      <td>2953.297348</td>\n",
       "      <td>3.419536e+11</td>\n",
       "      <td>3.572743e+10</td>\n",
       "      <td>2021-05-03</td>\n",
       "    </tr>\n",
       "    <tr>\n",
       "      <th>2096</th>\n",
       "      <td>1620086400000</td>\n",
       "      <td>3439.855070</td>\n",
       "      <td>3.982580e+11</td>\n",
       "      <td>6.419265e+10</td>\n",
       "      <td>2021-05-04</td>\n",
       "    </tr>\n",
       "    <tr>\n",
       "      <th>2097</th>\n",
       "      <td>1620226369000</td>\n",
       "      <td>3361.257971</td>\n",
       "      <td>3.875601e+11</td>\n",
       "      <td>6.907729e+10</td>\n",
       "      <td>2021-05-05</td>\n",
       "    </tr>\n",
       "  </tbody>\n",
       "</table>\n",
       "</div>"
      ],
      "text/plain": [
       "          timestamp    eth_price  eth_market_cap    eth_volume        date\n",
       "2093  1619827200000  2776.703712    3.211558e+11  3.547788e+10  2021-05-01\n",
       "2094  1619913600000  2944.916947    3.407302e+11  3.672165e+10  2021-05-02\n",
       "2095  1620000000000  2953.297348    3.419536e+11  3.572743e+10  2021-05-03\n",
       "2096  1620086400000  3439.855070    3.982580e+11  6.419265e+10  2021-05-04\n",
       "2097  1620226369000  3361.257971    3.875601e+11  6.907729e+10  2021-05-05"
      ]
     },
     "execution_count": 92,
     "metadata": {},
     "output_type": "execute_result"
    }
   ],
   "source": [
    "ETH.tail()"
   ]
  },
  {
   "cell_type": "code",
   "execution_count": 93,
   "metadata": {
    "ExecuteTime": {
     "end_time": "2021-05-05T16:52:18.567136Z",
     "start_time": "2021-05-05T16:52:17.654994Z"
    }
   },
   "outputs": [
    {
     "name": "stdout",
     "output_type": "stream",
     "text": [
      "0\n",
      "0\n"
     ]
    }
   ],
   "source": [
    "BNB = get_db('binancecoin', 'bnb')"
   ]
  },
  {
   "cell_type": "code",
   "execution_count": 94,
   "metadata": {
    "ExecuteTime": {
     "end_time": "2021-05-05T16:52:18.621378Z",
     "start_time": "2021-05-05T16:52:18.616363Z"
    }
   },
   "outputs": [
    {
     "data": {
      "text/html": [
       "<div>\n",
       "<style scoped>\n",
       "    .dataframe tbody tr th:only-of-type {\n",
       "        vertical-align: middle;\n",
       "    }\n",
       "\n",
       "    .dataframe tbody tr th {\n",
       "        vertical-align: top;\n",
       "    }\n",
       "\n",
       "    .dataframe thead th {\n",
       "        text-align: right;\n",
       "    }\n",
       "</style>\n",
       "<table border=\"1\" class=\"dataframe\">\n",
       "  <thead>\n",
       "    <tr style=\"text-align: right;\">\n",
       "      <th></th>\n",
       "      <th>timestamp</th>\n",
       "      <th>bnb_price</th>\n",
       "      <th>bnb_market_cap</th>\n",
       "      <th>bnb_volume</th>\n",
       "      <th>date</th>\n",
       "    </tr>\n",
       "  </thead>\n",
       "  <tbody>\n",
       "    <tr>\n",
       "      <th>1321</th>\n",
       "      <td>1619827200000</td>\n",
       "      <td>624.576535</td>\n",
       "      <td>9.632856e+10</td>\n",
       "      <td>7.224920e+09</td>\n",
       "      <td>2021-05-01</td>\n",
       "    </tr>\n",
       "    <tr>\n",
       "      <th>1322</th>\n",
       "      <td>1619913600000</td>\n",
       "      <td>619.030889</td>\n",
       "      <td>9.580771e+10</td>\n",
       "      <td>5.343009e+09</td>\n",
       "      <td>2021-05-02</td>\n",
       "    </tr>\n",
       "    <tr>\n",
       "      <th>1323</th>\n",
       "      <td>1620000000000</td>\n",
       "      <td>622.587767</td>\n",
       "      <td>9.615781e+10</td>\n",
       "      <td>4.766464e+09</td>\n",
       "      <td>2021-05-03</td>\n",
       "    </tr>\n",
       "    <tr>\n",
       "      <th>1324</th>\n",
       "      <td>1620086400000</td>\n",
       "      <td>675.098974</td>\n",
       "      <td>1.039651e+11</td>\n",
       "      <td>6.575775e+09</td>\n",
       "      <td>2021-05-04</td>\n",
       "    </tr>\n",
       "    <tr>\n",
       "      <th>1325</th>\n",
       "      <td>1620220352000</td>\n",
       "      <td>652.384264</td>\n",
       "      <td>1.005406e+11</td>\n",
       "      <td>5.452807e+09</td>\n",
       "      <td>2021-05-05</td>\n",
       "    </tr>\n",
       "  </tbody>\n",
       "</table>\n",
       "</div>"
      ],
      "text/plain": [
       "          timestamp   bnb_price  bnb_market_cap    bnb_volume        date\n",
       "1321  1619827200000  624.576535    9.632856e+10  7.224920e+09  2021-05-01\n",
       "1322  1619913600000  619.030889    9.580771e+10  5.343009e+09  2021-05-02\n",
       "1323  1620000000000  622.587767    9.615781e+10  4.766464e+09  2021-05-03\n",
       "1324  1620086400000  675.098974    1.039651e+11  6.575775e+09  2021-05-04\n",
       "1325  1620220352000  652.384264    1.005406e+11  5.452807e+09  2021-05-05"
      ]
     },
     "execution_count": 94,
     "metadata": {},
     "output_type": "execute_result"
    }
   ],
   "source": [
    "BNB.tail()"
   ]
  },
  {
   "cell_type": "code",
   "execution_count": 95,
   "metadata": {
    "ExecuteTime": {
     "end_time": "2021-05-05T16:52:20.180050Z",
     "start_time": "2021-05-05T16:52:19.627969Z"
    }
   },
   "outputs": [
    {
     "name": "stdout",
     "output_type": "stream",
     "text": [
      "0\n",
      "0\n"
     ]
    }
   ],
   "source": [
    "VET = get_db('vechain', 'vet')"
   ]
  },
  {
   "cell_type": "code",
   "execution_count": 108,
   "metadata": {
    "ExecuteTime": {
     "end_time": "2021-05-05T17:13:23.023703Z",
     "start_time": "2021-05-05T17:13:23.008687Z"
    }
   },
   "outputs": [
    {
     "data": {
      "text/html": [
       "<div>\n",
       "<style scoped>\n",
       "    .dataframe tbody tr th:only-of-type {\n",
       "        vertical-align: middle;\n",
       "    }\n",
       "\n",
       "    .dataframe tbody tr th {\n",
       "        vertical-align: top;\n",
       "    }\n",
       "\n",
       "    .dataframe thead th {\n",
       "        text-align: right;\n",
       "    }\n",
       "</style>\n",
       "<table border=\"1\" class=\"dataframe\">\n",
       "  <thead>\n",
       "    <tr style=\"text-align: right;\">\n",
       "      <th></th>\n",
       "      <th>timestamp</th>\n",
       "      <th>vet_price</th>\n",
       "      <th>vet_market_cap</th>\n",
       "      <th>vet_volume</th>\n",
       "      <th>date</th>\n",
       "    </tr>\n",
       "  </thead>\n",
       "  <tbody>\n",
       "    <tr>\n",
       "      <th>0</th>\n",
       "      <td>1532649600000</td>\n",
       "      <td>0.024916</td>\n",
       "      <td>1.317939e+09</td>\n",
       "      <td>9.689896e+07</td>\n",
       "      <td>2018-07-27</td>\n",
       "    </tr>\n",
       "    <tr>\n",
       "      <th>1</th>\n",
       "      <td>1532736000000</td>\n",
       "      <td>0.024978</td>\n",
       "      <td>1.321200e+09</td>\n",
       "      <td>4.303242e+07</td>\n",
       "      <td>2018-07-28</td>\n",
       "    </tr>\n",
       "    <tr>\n",
       "      <th>2</th>\n",
       "      <td>1532822400000</td>\n",
       "      <td>0.025667</td>\n",
       "      <td>1.357667e+09</td>\n",
       "      <td>1.792036e+07</td>\n",
       "      <td>2018-07-29</td>\n",
       "    </tr>\n",
       "    <tr>\n",
       "      <th>3</th>\n",
       "      <td>1532908800000</td>\n",
       "      <td>0.026372</td>\n",
       "      <td>1.394918e+09</td>\n",
       "      <td>2.354678e+07</td>\n",
       "      <td>2018-07-30</td>\n",
       "    </tr>\n",
       "    <tr>\n",
       "      <th>4</th>\n",
       "      <td>1532995200000</td>\n",
       "      <td>0.025333</td>\n",
       "      <td>1.339962e+09</td>\n",
       "      <td>2.743729e+07</td>\n",
       "      <td>2018-07-31</td>\n",
       "    </tr>\n",
       "  </tbody>\n",
       "</table>\n",
       "</div>"
      ],
      "text/plain": [
       "       timestamp  vet_price  vet_market_cap    vet_volume        date\n",
       "0  1532649600000   0.024916    1.317939e+09  9.689896e+07  2018-07-27\n",
       "1  1532736000000   0.024978    1.321200e+09  4.303242e+07  2018-07-28\n",
       "2  1532822400000   0.025667    1.357667e+09  1.792036e+07  2018-07-29\n",
       "3  1532908800000   0.026372    1.394918e+09  2.354678e+07  2018-07-30\n",
       "4  1532995200000   0.025333    1.339962e+09  2.743729e+07  2018-07-31"
      ]
     },
     "execution_count": 108,
     "metadata": {},
     "output_type": "execute_result"
    }
   ],
   "source": [
    "VET.head()"
   ]
  },
  {
   "cell_type": "code",
   "execution_count": 96,
   "metadata": {
    "ExecuteTime": {
     "end_time": "2021-05-05T16:52:20.591941Z",
     "start_time": "2021-05-05T16:52:20.228604Z"
    }
   },
   "outputs": [
    {
     "name": "stdout",
     "output_type": "stream",
     "text": [
      "0\n",
      "0\n"
     ]
    }
   ],
   "source": [
    "BTT = get_db('bittorrent-2', 'btt')"
   ]
  },
  {
   "cell_type": "code",
   "execution_count": 109,
   "metadata": {
    "ExecuteTime": {
     "end_time": "2021-05-05T17:13:36.720779Z",
     "start_time": "2021-05-05T17:13:36.704548Z"
    }
   },
   "outputs": [
    {
     "data": {
      "text/html": [
       "<div>\n",
       "<style scoped>\n",
       "    .dataframe tbody tr th:only-of-type {\n",
       "        vertical-align: middle;\n",
       "    }\n",
       "\n",
       "    .dataframe tbody tr th {\n",
       "        vertical-align: top;\n",
       "    }\n",
       "\n",
       "    .dataframe thead th {\n",
       "        text-align: right;\n",
       "    }\n",
       "</style>\n",
       "<table border=\"1\" class=\"dataframe\">\n",
       "  <thead>\n",
       "    <tr style=\"text-align: right;\">\n",
       "      <th></th>\n",
       "      <th>timestamp</th>\n",
       "      <th>btt_price</th>\n",
       "      <th>btt_market_cap</th>\n",
       "      <th>btt_volume</th>\n",
       "      <th>date</th>\n",
       "    </tr>\n",
       "  </thead>\n",
       "  <tbody>\n",
       "    <tr>\n",
       "      <th>0</th>\n",
       "      <td>1548979200000</td>\n",
       "      <td>0.000495</td>\n",
       "      <td>0.0</td>\n",
       "      <td>1.857231e+08</td>\n",
       "      <td>2019-02-01</td>\n",
       "    </tr>\n",
       "    <tr>\n",
       "      <th>1</th>\n",
       "      <td>1549065600000</td>\n",
       "      <td>0.000473</td>\n",
       "      <td>0.0</td>\n",
       "      <td>3.358889e+07</td>\n",
       "      <td>2019-02-02</td>\n",
       "    </tr>\n",
       "    <tr>\n",
       "      <th>2</th>\n",
       "      <td>1549152000000</td>\n",
       "      <td>0.000433</td>\n",
       "      <td>0.0</td>\n",
       "      <td>1.673039e+07</td>\n",
       "      <td>2019-02-03</td>\n",
       "    </tr>\n",
       "    <tr>\n",
       "      <th>3</th>\n",
       "      <td>1549238400000</td>\n",
       "      <td>0.000601</td>\n",
       "      <td>0.0</td>\n",
       "      <td>9.556115e+07</td>\n",
       "      <td>2019-02-04</td>\n",
       "    </tr>\n",
       "    <tr>\n",
       "      <th>4</th>\n",
       "      <td>1549324800000</td>\n",
       "      <td>0.000863</td>\n",
       "      <td>0.0</td>\n",
       "      <td>3.604663e+08</td>\n",
       "      <td>2019-02-05</td>\n",
       "    </tr>\n",
       "  </tbody>\n",
       "</table>\n",
       "</div>"
      ],
      "text/plain": [
       "       timestamp  btt_price  btt_market_cap    btt_volume        date\n",
       "0  1548979200000   0.000495             0.0  1.857231e+08  2019-02-01\n",
       "1  1549065600000   0.000473             0.0  3.358889e+07  2019-02-02\n",
       "2  1549152000000   0.000433             0.0  1.673039e+07  2019-02-03\n",
       "3  1549238400000   0.000601             0.0  9.556115e+07  2019-02-04\n",
       "4  1549324800000   0.000863             0.0  3.604663e+08  2019-02-05"
      ]
     },
     "execution_count": 109,
     "metadata": {},
     "output_type": "execute_result"
    }
   ],
   "source": [
    "BTT.head()"
   ]
  },
  {
   "cell_type": "code",
   "execution_count": 97,
   "metadata": {
    "ExecuteTime": {
     "end_time": "2021-05-05T16:52:21.851358Z",
     "start_time": "2021-05-05T16:52:21.411585Z"
    }
   },
   "outputs": [
    {
     "name": "stdout",
     "output_type": "stream",
     "text": [
      "0\n",
      "0\n"
     ]
    }
   ],
   "source": [
    "HOT = get_db('holotoken', 'hot')"
   ]
  },
  {
   "cell_type": "code",
   "execution_count": 110,
   "metadata": {
    "ExecuteTime": {
     "end_time": "2021-05-05T17:13:48.416606Z",
     "start_time": "2021-05-05T17:13:48.400747Z"
    }
   },
   "outputs": [
    {
     "data": {
      "text/html": [
       "<div>\n",
       "<style scoped>\n",
       "    .dataframe tbody tr th:only-of-type {\n",
       "        vertical-align: middle;\n",
       "    }\n",
       "\n",
       "    .dataframe tbody tr th {\n",
       "        vertical-align: top;\n",
       "    }\n",
       "\n",
       "    .dataframe thead th {\n",
       "        text-align: right;\n",
       "    }\n",
       "</style>\n",
       "<table border=\"1\" class=\"dataframe\">\n",
       "  <thead>\n",
       "    <tr style=\"text-align: right;\">\n",
       "      <th></th>\n",
       "      <th>timestamp</th>\n",
       "      <th>hot_price</th>\n",
       "      <th>hot_market_cap</th>\n",
       "      <th>hot_volume</th>\n",
       "      <th>date</th>\n",
       "    </tr>\n",
       "  </thead>\n",
       "  <tbody>\n",
       "    <tr>\n",
       "      <th>0</th>\n",
       "      <td>1525046400000</td>\n",
       "      <td>0.000411</td>\n",
       "      <td>1.564198e+05</td>\n",
       "      <td>2.556226e+06</td>\n",
       "      <td>2018-04-30</td>\n",
       "    </tr>\n",
       "    <tr>\n",
       "      <th>1</th>\n",
       "      <td>1525132800000</td>\n",
       "      <td>0.000784</td>\n",
       "      <td>2.986889e+05</td>\n",
       "      <td>7.202907e+06</td>\n",
       "      <td>2018-05-01</td>\n",
       "    </tr>\n",
       "    <tr>\n",
       "      <th>2</th>\n",
       "      <td>1525219200000</td>\n",
       "      <td>0.000714</td>\n",
       "      <td>2.720069e+05</td>\n",
       "      <td>5.556289e+06</td>\n",
       "      <td>2018-05-02</td>\n",
       "    </tr>\n",
       "    <tr>\n",
       "      <th>3</th>\n",
       "      <td>1525305600000</td>\n",
       "      <td>0.000932</td>\n",
       "      <td>1.654271e+08</td>\n",
       "      <td>4.047131e+06</td>\n",
       "      <td>2018-05-03</td>\n",
       "    </tr>\n",
       "    <tr>\n",
       "      <th>4</th>\n",
       "      <td>1525392000000</td>\n",
       "      <td>0.001244</td>\n",
       "      <td>2.208279e+08</td>\n",
       "      <td>2.973560e+06</td>\n",
       "      <td>2018-05-04</td>\n",
       "    </tr>\n",
       "  </tbody>\n",
       "</table>\n",
       "</div>"
      ],
      "text/plain": [
       "       timestamp  hot_price  hot_market_cap    hot_volume        date\n",
       "0  1525046400000   0.000411    1.564198e+05  2.556226e+06  2018-04-30\n",
       "1  1525132800000   0.000784    2.986889e+05  7.202907e+06  2018-05-01\n",
       "2  1525219200000   0.000714    2.720069e+05  5.556289e+06  2018-05-02\n",
       "3  1525305600000   0.000932    1.654271e+08  4.047131e+06  2018-05-03\n",
       "4  1525392000000   0.001244    2.208279e+08  2.973560e+06  2018-05-04"
      ]
     },
     "execution_count": 110,
     "metadata": {},
     "output_type": "execute_result"
    }
   ],
   "source": [
    "HOT.head()"
   ]
  },
  {
   "cell_type": "code",
   "execution_count": 103,
   "metadata": {
    "ExecuteTime": {
     "end_time": "2021-05-05T16:53:12.921837Z",
     "start_time": "2021-05-05T16:53:12.880342Z"
    }
   },
   "outputs": [],
   "source": [
    "final_df = (\n",
    "    BTC[['date', 'btc_price', 'btc_volume', 'btc_market_cap']]\n",
    "    .merge(ETH.drop('timestamp', axis=1), on='date', how='left')\n",
    "    .merge(BNB.drop('timestamp', axis=1), on='date', how='left')\n",
    "    .merge(VET.drop('timestamp', axis=1), on='date', how='left')\n",
    "    .merge(BTT.drop('timestamp', axis=1), on='date', how='left')\n",
    "    .merge(HOT.drop('timestamp', axis=1), on='date', how='left')\n",
    ").fillna(0).set_index('date')"
   ]
  },
  {
   "cell_type": "code",
   "execution_count": 104,
   "metadata": {
    "ExecuteTime": {
     "end_time": "2021-05-05T16:53:13.717987Z",
     "start_time": "2021-05-05T16:53:13.686601Z"
    }
   },
   "outputs": [
    {
     "data": {
      "text/html": [
       "<div>\n",
       "<style scoped>\n",
       "    .dataframe tbody tr th:only-of-type {\n",
       "        vertical-align: middle;\n",
       "    }\n",
       "\n",
       "    .dataframe tbody tr th {\n",
       "        vertical-align: top;\n",
       "    }\n",
       "\n",
       "    .dataframe thead th {\n",
       "        text-align: right;\n",
       "    }\n",
       "</style>\n",
       "<table border=\"1\" class=\"dataframe\">\n",
       "  <thead>\n",
       "    <tr style=\"text-align: right;\">\n",
       "      <th></th>\n",
       "      <th>btc_price</th>\n",
       "      <th>btc_volume</th>\n",
       "      <th>btc_market_cap</th>\n",
       "      <th>eth_price</th>\n",
       "      <th>eth_market_cap</th>\n",
       "      <th>eth_volume</th>\n",
       "      <th>bnb_price</th>\n",
       "      <th>bnb_market_cap</th>\n",
       "      <th>bnb_volume</th>\n",
       "      <th>vet_price</th>\n",
       "      <th>vet_market_cap</th>\n",
       "      <th>vet_volume</th>\n",
       "      <th>btt_price</th>\n",
       "      <th>btt_market_cap</th>\n",
       "      <th>btt_volume</th>\n",
       "      <th>hot_price</th>\n",
       "      <th>hot_market_cap</th>\n",
       "      <th>hot_volume</th>\n",
       "    </tr>\n",
       "    <tr>\n",
       "      <th>date</th>\n",
       "      <th></th>\n",
       "      <th></th>\n",
       "      <th></th>\n",
       "      <th></th>\n",
       "      <th></th>\n",
       "      <th></th>\n",
       "      <th></th>\n",
       "      <th></th>\n",
       "      <th></th>\n",
       "      <th></th>\n",
       "      <th></th>\n",
       "      <th></th>\n",
       "      <th></th>\n",
       "      <th></th>\n",
       "      <th></th>\n",
       "      <th></th>\n",
       "      <th></th>\n",
       "      <th></th>\n",
       "    </tr>\n",
       "  </thead>\n",
       "  <tbody>\n",
       "    <tr>\n",
       "      <th>2021-05-01</th>\n",
       "      <td>57828.511814</td>\n",
       "      <td>5.387905e+10</td>\n",
       "      <td>1.082722e+12</td>\n",
       "      <td>2776.703712</td>\n",
       "      <td>3.211558e+11</td>\n",
       "      <td>3.547788e+10</td>\n",
       "      <td>624.576535</td>\n",
       "      <td>9.632856e+10</td>\n",
       "      <td>7.224920e+09</td>\n",
       "      <td>0.202759</td>\n",
       "      <td>1.321093e+10</td>\n",
       "      <td>2.091602e+09</td>\n",
       "      <td>0.007387</td>\n",
       "      <td>4.879316e+09</td>\n",
       "      <td>1.342079e+09</td>\n",
       "      <td>0.016122</td>\n",
       "      <td>2.863888e+09</td>\n",
       "      <td>3.467308e+08</td>\n",
       "    </tr>\n",
       "    <tr>\n",
       "      <th>2021-05-02</th>\n",
       "      <td>57812.969160</td>\n",
       "      <td>4.396707e+10</td>\n",
       "      <td>1.080898e+12</td>\n",
       "      <td>2944.916947</td>\n",
       "      <td>3.407302e+11</td>\n",
       "      <td>3.672165e+10</td>\n",
       "      <td>619.030889</td>\n",
       "      <td>9.580771e+10</td>\n",
       "      <td>5.343009e+09</td>\n",
       "      <td>0.206364</td>\n",
       "      <td>1.347972e+10</td>\n",
       "      <td>1.764292e+09</td>\n",
       "      <td>0.007396</td>\n",
       "      <td>4.874513e+09</td>\n",
       "      <td>1.351199e+09</td>\n",
       "      <td>0.016211</td>\n",
       "      <td>2.881472e+09</td>\n",
       "      <td>4.126239e+08</td>\n",
       "    </tr>\n",
       "    <tr>\n",
       "      <th>2021-05-03</th>\n",
       "      <td>56600.745287</td>\n",
       "      <td>3.907266e+10</td>\n",
       "      <td>1.057850e+12</td>\n",
       "      <td>2953.297348</td>\n",
       "      <td>3.419536e+11</td>\n",
       "      <td>3.572743e+10</td>\n",
       "      <td>622.587767</td>\n",
       "      <td>9.615781e+10</td>\n",
       "      <td>4.766464e+09</td>\n",
       "      <td>0.218802</td>\n",
       "      <td>1.420521e+10</td>\n",
       "      <td>3.061196e+09</td>\n",
       "      <td>0.007200</td>\n",
       "      <td>4.745823e+09</td>\n",
       "      <td>1.020262e+09</td>\n",
       "      <td>0.015586</td>\n",
       "      <td>2.764309e+09</td>\n",
       "      <td>3.006364e+08</td>\n",
       "    </tr>\n",
       "    <tr>\n",
       "      <th>2021-05-04</th>\n",
       "      <td>57200.300299</td>\n",
       "      <td>5.413247e+10</td>\n",
       "      <td>1.069571e+12</td>\n",
       "      <td>3439.855070</td>\n",
       "      <td>3.982580e+11</td>\n",
       "      <td>6.419265e+10</td>\n",
       "      <td>675.098974</td>\n",
       "      <td>1.039651e+11</td>\n",
       "      <td>6.575775e+09</td>\n",
       "      <td>0.212997</td>\n",
       "      <td>1.385133e+10</td>\n",
       "      <td>2.162001e+09</td>\n",
       "      <td>0.007129</td>\n",
       "      <td>4.700097e+09</td>\n",
       "      <td>1.225629e+09</td>\n",
       "      <td>0.015367</td>\n",
       "      <td>2.728189e+09</td>\n",
       "      <td>3.704947e+08</td>\n",
       "    </tr>\n",
       "    <tr>\n",
       "      <th>2021-05-05</th>\n",
       "      <td>56379.300332</td>\n",
       "      <td>7.188970e+10</td>\n",
       "      <td>1.054319e+12</td>\n",
       "      <td>3361.257971</td>\n",
       "      <td>3.875601e+11</td>\n",
       "      <td>6.907729e+10</td>\n",
       "      <td>652.384264</td>\n",
       "      <td>1.005406e+11</td>\n",
       "      <td>5.452807e+09</td>\n",
       "      <td>0.201711</td>\n",
       "      <td>1.310493e+10</td>\n",
       "      <td>2.492411e+09</td>\n",
       "      <td>0.007165</td>\n",
       "      <td>4.708041e+09</td>\n",
       "      <td>3.220699e+09</td>\n",
       "      <td>0.014714</td>\n",
       "      <td>2.589005e+09</td>\n",
       "      <td>5.874323e+08</td>\n",
       "    </tr>\n",
       "  </tbody>\n",
       "</table>\n",
       "</div>"
      ],
      "text/plain": [
       "               btc_price    btc_volume  btc_market_cap    eth_price  \\\n",
       "date                                                                  \n",
       "2021-05-01  57828.511814  5.387905e+10    1.082722e+12  2776.703712   \n",
       "2021-05-02  57812.969160  4.396707e+10    1.080898e+12  2944.916947   \n",
       "2021-05-03  56600.745287  3.907266e+10    1.057850e+12  2953.297348   \n",
       "2021-05-04  57200.300299  5.413247e+10    1.069571e+12  3439.855070   \n",
       "2021-05-05  56379.300332  7.188970e+10    1.054319e+12  3361.257971   \n",
       "\n",
       "            eth_market_cap    eth_volume   bnb_price  bnb_market_cap  \\\n",
       "date                                                                   \n",
       "2021-05-01    3.211558e+11  3.547788e+10  624.576535    9.632856e+10   \n",
       "2021-05-02    3.407302e+11  3.672165e+10  619.030889    9.580771e+10   \n",
       "2021-05-03    3.419536e+11  3.572743e+10  622.587767    9.615781e+10   \n",
       "2021-05-04    3.982580e+11  6.419265e+10  675.098974    1.039651e+11   \n",
       "2021-05-05    3.875601e+11  6.907729e+10  652.384264    1.005406e+11   \n",
       "\n",
       "              bnb_volume  vet_price  vet_market_cap    vet_volume  btt_price  \\\n",
       "date                                                                           \n",
       "2021-05-01  7.224920e+09   0.202759    1.321093e+10  2.091602e+09   0.007387   \n",
       "2021-05-02  5.343009e+09   0.206364    1.347972e+10  1.764292e+09   0.007396   \n",
       "2021-05-03  4.766464e+09   0.218802    1.420521e+10  3.061196e+09   0.007200   \n",
       "2021-05-04  6.575775e+09   0.212997    1.385133e+10  2.162001e+09   0.007129   \n",
       "2021-05-05  5.452807e+09   0.201711    1.310493e+10  2.492411e+09   0.007165   \n",
       "\n",
       "            btt_market_cap    btt_volume  hot_price  hot_market_cap  \\\n",
       "date                                                                  \n",
       "2021-05-01    4.879316e+09  1.342079e+09   0.016122    2.863888e+09   \n",
       "2021-05-02    4.874513e+09  1.351199e+09   0.016211    2.881472e+09   \n",
       "2021-05-03    4.745823e+09  1.020262e+09   0.015586    2.764309e+09   \n",
       "2021-05-04    4.700097e+09  1.225629e+09   0.015367    2.728189e+09   \n",
       "2021-05-05    4.708041e+09  3.220699e+09   0.014714    2.589005e+09   \n",
       "\n",
       "              hot_volume  \n",
       "date                      \n",
       "2021-05-01  3.467308e+08  \n",
       "2021-05-02  4.126239e+08  \n",
       "2021-05-03  3.006364e+08  \n",
       "2021-05-04  3.704947e+08  \n",
       "2021-05-05  5.874323e+08  "
      ]
     },
     "execution_count": 104,
     "metadata": {},
     "output_type": "execute_result"
    }
   ],
   "source": [
    "final_df.tail()"
   ]
  },
  {
   "cell_type": "markdown",
   "metadata": {},
   "source": [
    "# EDA"
   ]
  },
  {
   "cell_type": "markdown",
   "metadata": {},
   "source": [
    "Market Cap is calculated by multiplying the number of existing coins by its value. It is expected to be highly correlated with the respective price as the coin number should be more or less constant, and therefore end up being redundant for our model. Let's calculate the correlation between variable:"
   ]
  },
  {
   "cell_type": "code",
   "execution_count": 105,
   "metadata": {
    "ExecuteTime": {
     "end_time": "2021-05-05T16:53:16.095349Z",
     "start_time": "2021-05-05T16:53:15.696027Z"
    }
   },
   "outputs": [
    {
     "data": {
      "image/png": "[encoded data removed]",
      "text/plain": [
       "<Figure size 864x288 with 2 Axes>"
      ]
     },
     "metadata": {
      "needs_background": "light"
     },
     "output_type": "display_data"
    }
   ],
   "source": [
    "corr_matrix = final_df.corr()\n",
    "lower_triangle_mask = np.triu(np.ones(corr_matrix.shape)).astype(np.bool)\n",
    "cor_mat_lower = corr_matrix.mask(lower_triangle_mask)\n",
    "\n",
    "plt.figure(figsize = (12,4))\n",
    "\n",
    "sns.heatmap(cor_mat_lower,\n",
    "            annot=True,\n",
    "            cmap='RdBu_r')\n",
    "\n",
    "plt.show()"
   ]
  },
  {
   "cell_type": "markdown",
   "metadata": {},
   "source": [
    "As expected, market cap is redundant, it can be droped. We also see interesting correlation values for the prices of some coins which may bring good predicting power to our model."
   ]
  },
  {
   "cell_type": "code",
   "execution_count": 106,
   "metadata": {
    "ExecuteTime": {
     "end_time": "2021-05-05T16:53:17.636540Z",
     "start_time": "2021-05-05T16:53:17.627242Z"
    }
   },
   "outputs": [],
   "source": [
    "final_df = final_df.drop(columns = ['btc_market_cap', 'eth_market_cap', 'bnb_market_cap', 'vet_market_cap', 'btt_market_cap', 'hot_market_cap'])"
   ]
  },
  {
   "cell_type": "code",
   "execution_count": 107,
   "metadata": {
    "ExecuteTime": {
     "end_time": "2021-05-05T16:53:18.184761Z",
     "start_time": "2021-05-05T16:53:18.103278Z"
    }
   },
   "outputs": [],
   "source": [
    "final_df.to_csv('../df_to_model.csv')"
   ]
  },
  {
   "cell_type": "code",
   "execution_count": null,
   "metadata": {},
   "outputs": [],
   "source": []
  },
  {
   "cell_type": "code",
   "execution_count": null,
   "metadata": {},
   "outputs": [],
   "source": []
  }
 ],
 "metadata": {
  "kernelspec": {
   "display_name": "Python 3",
   "language": "python",
   "name": "python3"
  },
  "language_info": {
   "codemirror_mode": {
    "name": "ipython",
    "version": 3
   },
   "file_extension": ".py",
   "mimetype": "text/x-python",
   "name": "python",
   "nbconvert_exporter": "python",
   "pygments_lexer": "ipython3",
   "version": "3.8.5"
  },
  "toc": {
   "base_numbering": 1,
   "nav_menu": {},
   "number_sections": false,
   "sideBar": true,
   "skip_h1_title": false,
   "title_cell": "Table of Contents",
   "title_sidebar": "Contents",
   "toc_cell": false,
   "toc_position": {},
   "toc_section_display": true,
   "toc_window_display": false
  },
  "varInspector": {
   "cols": {
    "lenName": 16,
    "lenType": 16,
    "lenVar": 40
   },
   "kernels_config": {
    "python": {
     "delete_cmd_postfix": "",
     "delete_cmd_prefix": "del ",
     "library": "var_list.py",
     "varRefreshCmd": "print(var_dic_list())"
    },
    "r": {
     "delete_cmd_postfix": ") ",
     "delete_cmd_prefix": "rm(",
     "library": "var_list.r",
     "varRefreshCmd": "cat(var_dic_list()) "
    }
   },
   "types_to_exclude": [
    "module",
    "function",
    "builtin_function_or_method",
    "instance",
    "_Feature"
   ],
   "window_display": false
  }
 },
 "nbformat": 4,
 "nbformat_minor": 4
}
