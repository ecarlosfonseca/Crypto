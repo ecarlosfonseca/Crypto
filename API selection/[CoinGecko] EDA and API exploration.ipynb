{
 "cells": [
  {
   "cell_type": "code",
   "execution_count": 8,
   "metadata": {
    "ExecuteTime": {
     "end_time": "2021-05-14T15:33:44.293666Z",
     "start_time": "2021-05-14T15:33:44.289611Z"
    }
   },
   "outputs": [],
   "source": [
    "import pandas as pd\n",
    "import requests\n",
    "from requests.exceptions import ConnectionError, Timeout, TooManyRedirects\n",
    "from datetime import datetime\n",
    "\n",
    "import matplotlib.pyplot as plt\n",
    "import seaborn as sns"
   ]
  },
  {
   "cell_type": "markdown",
   "metadata": {},
   "source": [
    "# Getting coin Ids"
   ]
  },
  {
   "cell_type": "code",
   "execution_count": 9,
   "metadata": {
    "ExecuteTime": {
     "end_time": "2021-05-14T15:33:48.196806Z",
     "start_time": "2021-05-14T15:33:45.166672Z"
    }
   },
   "outputs": [],
   "source": [
    "url = 'https://api.coingecko.com/api/v3/coins/list?include_platform=false'\n",
    "# no key required\n",
    "\n",
    "parameters = {\n",
    "    'include_platform': False\n",
    "}\n",
    "\n",
    "try:\n",
    "  response = requests.get(url)\n",
    "except (ConnectionError, Timeout, TooManyRedirects) as e:\n",
    "  print(e)"
   ]
  },
  {
   "cell_type": "code",
   "execution_count": 10,
   "metadata": {
    "ExecuteTime": {
     "end_time": "2021-05-14T15:33:49.379734Z",
     "start_time": "2021-05-14T15:33:49.351891Z"
    }
   },
   "outputs": [],
   "source": [
    "ids = pd.DataFrame(response.json())"
   ]
  },
  {
   "cell_type": "code",
   "execution_count": 11,
   "metadata": {
    "ExecuteTime": {
     "end_time": "2021-05-14T15:33:49.652126Z",
     "start_time": "2021-05-14T15:33:49.635540Z"
    }
   },
   "outputs": [
    {
     "data": {
      "text/html": [
       "<div>\n",
       "<style scoped>\n",
       "    .dataframe tbody tr th:only-of-type {\n",
       "        vertical-align: middle;\n",
       "    }\n",
       "\n",
       "    .dataframe tbody tr th {\n",
       "        vertical-align: top;\n",
       "    }\n",
       "\n",
       "    .dataframe thead th {\n",
       "        text-align: right;\n",
       "    }\n",
       "</style>\n",
       "<table border=\"1\" class=\"dataframe\">\n",
       "  <thead>\n",
       "    <tr style=\"text-align: right;\">\n",
       "      <th></th>\n",
       "      <th>id</th>\n",
       "      <th>symbol</th>\n",
       "      <th>name</th>\n",
       "    </tr>\n",
       "  </thead>\n",
       "  <tbody>\n",
       "    <tr>\n",
       "      <th>0</th>\n",
       "      <td>01coin</td>\n",
       "      <td>zoc</td>\n",
       "      <td>01coin</td>\n",
       "    </tr>\n",
       "    <tr>\n",
       "      <th>1</th>\n",
       "      <td>0-5x-long-algorand-token</td>\n",
       "      <td>algohalf</td>\n",
       "      <td>0.5X Long Algorand Token</td>\n",
       "    </tr>\n",
       "    <tr>\n",
       "      <th>2</th>\n",
       "      <td>0-5x-long-altcoin-index-token</td>\n",
       "      <td>althalf</td>\n",
       "      <td>0.5X Long Altcoin Index Token</td>\n",
       "    </tr>\n",
       "    <tr>\n",
       "      <th>3</th>\n",
       "      <td>0-5x-long-balancer-token</td>\n",
       "      <td>balhalf</td>\n",
       "      <td>0.5X Long Balancer Token</td>\n",
       "    </tr>\n",
       "    <tr>\n",
       "      <th>4</th>\n",
       "      <td>0-5x-long-bitcoin-cash-token</td>\n",
       "      <td>bchhalf</td>\n",
       "      <td>0.5X Long Bitcoin Cash Token</td>\n",
       "    </tr>\n",
       "  </tbody>\n",
       "</table>\n",
       "</div>"
      ],
      "text/plain": [
       "                              id    symbol                           name\n",
       "0                         01coin       zoc                         01coin\n",
       "1       0-5x-long-algorand-token  algohalf       0.5X Long Algorand Token\n",
       "2  0-5x-long-altcoin-index-token   althalf  0.5X Long Altcoin Index Token\n",
       "3       0-5x-long-balancer-token   balhalf       0.5X Long Balancer Token\n",
       "4   0-5x-long-bitcoin-cash-token   bchhalf   0.5X Long Bitcoin Cash Token"
      ]
     },
     "execution_count": 11,
     "metadata": {},
     "output_type": "execute_result"
    }
   ],
   "source": [
    "ids.head()"
   ]
  },
  {
   "cell_type": "code",
   "execution_count": 12,
   "metadata": {
    "ExecuteTime": {
     "end_time": "2021-05-14T15:33:51.576695Z",
     "start_time": "2021-05-14T15:33:51.542999Z"
    }
   },
   "outputs": [
    {
     "name": "stdout",
     "output_type": "stream",
     "text": [
      "          id symbol     name\n",
      "859  bitcoin    btc  Bitcoin\n",
      "            id symbol      name\n",
      "2412  ethereum    eth  Ethereum\n",
      "              id symbol          name\n",
      "805  binancecoin    bnb  Binance Coin\n",
      "           id symbol     name\n",
      "6562  vechain    vet  VeChain\n",
      "                id symbol        name\n",
      "1013  bittorrent-2    btt  BitTorrent\n",
      "                  id symbol            name\n",
      "3121       holotoken    hot            Holo\n",
      "3147          hotnow    hot          HotNow\n",
      "3190  hydro-protocol    hot  Hydro Protocol\n"
     ]
    }
   ],
   "source": [
    "print(ids[ids.name=='Bitcoin'])\n",
    "print(ids[ids.name=='Ethereum'])\n",
    "print(ids[ids.symbol=='bnb'])\n",
    "print(ids[ids.symbol=='vet'])\n",
    "print(ids[ids.symbol=='btt'])\n",
    "print(ids[ids.symbol=='hot'])"
   ]
  },
  {
   "cell_type": "markdown",
   "metadata": {},
   "source": [
    "# Getting Coin historical data"
   ]
  },
  {
   "cell_type": "markdown",
   "metadata": {},
   "source": [
    "In CoinGecko API you can research:\n",
    "\n",
    "- Coin historical data for a specific date with coins/id/history\n",
    "- Historical data for one coin for several days with coins/id.market_chart\n",
    "\n",
    "It is not possible to colect data for deveral coins at the same time"
   ]
  },
  {
   "cell_type": "code",
   "execution_count": 13,
   "metadata": {
    "ExecuteTime": {
     "end_time": "2021-05-14T15:33:53.852352Z",
     "start_time": "2021-05-14T15:33:53.842069Z"
    }
   },
   "outputs": [],
   "source": [
    "def get_db(coin: str, symbol: str) -> pd.DataFrame:\n",
    "    \"\"\"\n",
    "    Transforms the API response in a dataframe with a date column\n",
    "    \n",
    "    Arguments:\n",
    "    - coin: the name of the coin (lowercase) from the collected ids\n",
    "    - symbol: coin symbol to use on the columns\n",
    "    Outputs:\n",
    "    - coin_df: Pandas DataFrame with historical data available and a data column\n",
    "    \"\"\"\n",
    "    \n",
    "    coin_url = 'https://api.coingecko.com/api/v3/coins/{}/market_chart?vs_currency=usd&days=max&interval=daily'.format(coin)\n",
    "    \n",
    "    try:\n",
    "      response = requests.get(coin_url)\n",
    "    except (ConnectionError, Timeout, TooManyRedirects) as e:\n",
    "      print(e)\n",
    "    \n",
    "    coin_df = pd.DataFrame()\n",
    "    counter = 0\n",
    "    for key in list(response.json().keys()):\n",
    "        if counter == 0:\n",
    "            coin_df = pd.DataFrame(response.json()[key])\n",
    "            coin_df.columns = ['timestamp', key]\n",
    "        else:\n",
    "            df = pd.DataFrame(response.json()[key])\n",
    "            df.columns = ['timestamp', key]\n",
    "            coin_df = coin_df.merge(df, on = 'timestamp', how = 'left')\n",
    "        counter =+ 1\n",
    "    coin_df['date'] = coin_df.timestamp.apply(lambda x: datetime.fromtimestamp(x/1000)).dt.date\n",
    "    \n",
    "    print(coin_df.total_volumes.isnull().sum())\n",
    "    print(coin_df.prices.isnull().sum())\n",
    "    \n",
    "    coin_df.columns = ['timestamp', symbol + '_price', symbol + '_market_cap', symbol + '_volume', 'date']\n",
    "    \n",
    "    return coin_df\n"
   ]
  },
  {
   "cell_type": "code",
   "execution_count": 14,
   "metadata": {
    "ExecuteTime": {
     "end_time": "2021-05-14T15:33:55.832782Z",
     "start_time": "2021-05-14T15:33:55.116736Z"
    }
   },
   "outputs": [
    {
     "name": "stdout",
     "output_type": "stream",
     "text": [
      "0\n",
      "0\n"
     ]
    }
   ],
   "source": [
    "BTC = get_db('bitcoin', 'btc')"
   ]
  },
  {
   "cell_type": "code",
   "execution_count": 15,
   "metadata": {
    "ExecuteTime": {
     "end_time": "2021-05-14T15:33:57.042907Z",
     "start_time": "2021-05-14T15:33:57.026983Z"
    }
   },
   "outputs": [
    {
     "data": {
      "text/html": [
       "<div>\n",
       "<style scoped>\n",
       "    .dataframe tbody tr th:only-of-type {\n",
       "        vertical-align: middle;\n",
       "    }\n",
       "\n",
       "    .dataframe tbody tr th {\n",
       "        vertical-align: top;\n",
       "    }\n",
       "\n",
       "    .dataframe thead th {\n",
       "        text-align: right;\n",
       "    }\n",
       "</style>\n",
       "<table border=\"1\" class=\"dataframe\">\n",
       "  <thead>\n",
       "    <tr style=\"text-align: right;\">\n",
       "      <th></th>\n",
       "      <th>timestamp</th>\n",
       "      <th>btc_price</th>\n",
       "      <th>btc_market_cap</th>\n",
       "      <th>btc_volume</th>\n",
       "      <th>date</th>\n",
       "    </tr>\n",
       "  </thead>\n",
       "  <tbody>\n",
       "    <tr>\n",
       "      <th>2932</th>\n",
       "      <td>1620604800000</td>\n",
       "      <td>58213.926294</td>\n",
       "      <td>1.088903e+12</td>\n",
       "      <td>6.790628e+10</td>\n",
       "      <td>2021-05-10</td>\n",
       "    </tr>\n",
       "    <tr>\n",
       "      <th>2933</th>\n",
       "      <td>1620691200000</td>\n",
       "      <td>55901.667595</td>\n",
       "      <td>1.045714e+12</td>\n",
       "      <td>7.667298e+10</td>\n",
       "      <td>2021-05-11</td>\n",
       "    </tr>\n",
       "    <tr>\n",
       "      <th>2934</th>\n",
       "      <td>1620777600000</td>\n",
       "      <td>56928.972357</td>\n",
       "      <td>1.064993e+12</td>\n",
       "      <td>6.772671e+10</td>\n",
       "      <td>2021-05-12</td>\n",
       "    </tr>\n",
       "    <tr>\n",
       "      <th>2935</th>\n",
       "      <td>1620864000000</td>\n",
       "      <td>50004.762183</td>\n",
       "      <td>9.355125e+11</td>\n",
       "      <td>7.552393e+10</td>\n",
       "      <td>2021-05-13</td>\n",
       "    </tr>\n",
       "    <tr>\n",
       "      <th>2936</th>\n",
       "      <td>1621003958000</td>\n",
       "      <td>50821.913027</td>\n",
       "      <td>9.481303e+11</td>\n",
       "      <td>7.256578e+10</td>\n",
       "      <td>2021-05-14</td>\n",
       "    </tr>\n",
       "  </tbody>\n",
       "</table>\n",
       "</div>"
      ],
      "text/plain": [
       "          timestamp     btc_price  btc_market_cap    btc_volume        date\n",
       "2932  1620604800000  58213.926294    1.088903e+12  6.790628e+10  2021-05-10\n",
       "2933  1620691200000  55901.667595    1.045714e+12  7.667298e+10  2021-05-11\n",
       "2934  1620777600000  56928.972357    1.064993e+12  6.772671e+10  2021-05-12\n",
       "2935  1620864000000  50004.762183    9.355125e+11  7.552393e+10  2021-05-13\n",
       "2936  1621003958000  50821.913027    9.481303e+11  7.256578e+10  2021-05-14"
      ]
     },
     "execution_count": 15,
     "metadata": {},
     "output_type": "execute_result"
    }
   ],
   "source": [
    "BTC.tail()"
   ]
  },
  {
   "cell_type": "code",
   "execution_count": 16,
   "metadata": {
    "ExecuteTime": {
     "end_time": "2021-05-14T15:34:20.367793Z",
     "start_time": "2021-05-14T15:34:20.362663Z"
    }
   },
   "outputs": [
    {
     "data": {
      "text/plain": [
       "(2937, 5)"
      ]
     },
     "execution_count": 16,
     "metadata": {},
     "output_type": "execute_result"
    }
   ],
   "source": [
    "BTC.shape"
   ]
  },
  {
   "cell_type": "code",
   "execution_count": 17,
   "metadata": {
    "ExecuteTime": {
     "end_time": "2021-05-14T15:34:51.898785Z",
     "start_time": "2021-05-14T15:34:51.317372Z"
    }
   },
   "outputs": [
    {
     "name": "stdout",
     "output_type": "stream",
     "text": [
      "0\n",
      "0\n"
     ]
    }
   ],
   "source": [
    "ETH = get_db('ethereum', 'eth')"
   ]
  },
  {
   "cell_type": "code",
   "execution_count": 18,
   "metadata": {
    "ExecuteTime": {
     "end_time": "2021-05-14T15:34:52.547566Z",
     "start_time": "2021-05-14T15:34:52.529550Z"
    }
   },
   "outputs": [
    {
     "data": {
      "text/html": [
       "<div>\n",
       "<style scoped>\n",
       "    .dataframe tbody tr th:only-of-type {\n",
       "        vertical-align: middle;\n",
       "    }\n",
       "\n",
       "    .dataframe tbody tr th {\n",
       "        vertical-align: top;\n",
       "    }\n",
       "\n",
       "    .dataframe thead th {\n",
       "        text-align: right;\n",
       "    }\n",
       "</style>\n",
       "<table border=\"1\" class=\"dataframe\">\n",
       "  <thead>\n",
       "    <tr style=\"text-align: right;\">\n",
       "      <th></th>\n",
       "      <th>timestamp</th>\n",
       "      <th>eth_price</th>\n",
       "      <th>eth_market_cap</th>\n",
       "      <th>eth_volume</th>\n",
       "      <th>date</th>\n",
       "    </tr>\n",
       "  </thead>\n",
       "  <tbody>\n",
       "    <tr>\n",
       "      <th>2102</th>\n",
       "      <td>1620604800000</td>\n",
       "      <td>3932.754068</td>\n",
       "      <td>4.554483e+11</td>\n",
       "      <td>6.162566e+10</td>\n",
       "      <td>2021-05-10</td>\n",
       "    </tr>\n",
       "    <tr>\n",
       "      <th>2103</th>\n",
       "      <td>1620691200000</td>\n",
       "      <td>3979.608652</td>\n",
       "      <td>4.610408e+11</td>\n",
       "      <td>8.082722e+10</td>\n",
       "      <td>2021-05-11</td>\n",
       "    </tr>\n",
       "    <tr>\n",
       "      <th>2104</th>\n",
       "      <td>1620777600000</td>\n",
       "      <td>4182.790286</td>\n",
       "      <td>4.813810e+11</td>\n",
       "      <td>6.786920e+10</td>\n",
       "      <td>2021-05-12</td>\n",
       "    </tr>\n",
       "    <tr>\n",
       "      <th>2105</th>\n",
       "      <td>1620864000000</td>\n",
       "      <td>3906.108903</td>\n",
       "      <td>4.656470e+11</td>\n",
       "      <td>7.877203e+10</td>\n",
       "      <td>2021-05-13</td>\n",
       "    </tr>\n",
       "    <tr>\n",
       "      <th>2106</th>\n",
       "      <td>1621004134000</td>\n",
       "      <td>4085.356112</td>\n",
       "      <td>4.705931e+11</td>\n",
       "      <td>7.500975e+10</td>\n",
       "      <td>2021-05-14</td>\n",
       "    </tr>\n",
       "  </tbody>\n",
       "</table>\n",
       "</div>"
      ],
      "text/plain": [
       "          timestamp    eth_price  eth_market_cap    eth_volume        date\n",
       "2102  1620604800000  3932.754068    4.554483e+11  6.162566e+10  2021-05-10\n",
       "2103  1620691200000  3979.608652    4.610408e+11  8.082722e+10  2021-05-11\n",
       "2104  1620777600000  4182.790286    4.813810e+11  6.786920e+10  2021-05-12\n",
       "2105  1620864000000  3906.108903    4.656470e+11  7.877203e+10  2021-05-13\n",
       "2106  1621004134000  4085.356112    4.705931e+11  7.500975e+10  2021-05-14"
      ]
     },
     "execution_count": 18,
     "metadata": {},
     "output_type": "execute_result"
    }
   ],
   "source": [
    "ETH.tail()"
   ]
  },
  {
   "cell_type": "code",
   "execution_count": 19,
   "metadata": {
    "ExecuteTime": {
     "end_time": "2021-05-14T15:34:57.537264Z",
     "start_time": "2021-05-14T15:34:53.663790Z"
    }
   },
   "outputs": [
    {
     "name": "stdout",
     "output_type": "stream",
     "text": [
      "0\n",
      "0\n"
     ]
    }
   ],
   "source": [
    "BNB = get_db('binancecoin', 'bnb')"
   ]
  },
  {
   "cell_type": "code",
   "execution_count": 20,
   "metadata": {
    "ExecuteTime": {
     "end_time": "2021-05-14T15:34:57.567663Z",
     "start_time": "2021-05-14T15:34:57.560559Z"
    }
   },
   "outputs": [
    {
     "data": {
      "text/html": [
       "<div>\n",
       "<style scoped>\n",
       "    .dataframe tbody tr th:only-of-type {\n",
       "        vertical-align: middle;\n",
       "    }\n",
       "\n",
       "    .dataframe tbody tr th {\n",
       "        vertical-align: top;\n",
       "    }\n",
       "\n",
       "    .dataframe thead th {\n",
       "        text-align: right;\n",
       "    }\n",
       "</style>\n",
       "<table border=\"1\" class=\"dataframe\">\n",
       "  <thead>\n",
       "    <tr style=\"text-align: right;\">\n",
       "      <th></th>\n",
       "      <th>timestamp</th>\n",
       "      <th>bnb_price</th>\n",
       "      <th>bnb_market_cap</th>\n",
       "      <th>bnb_volume</th>\n",
       "      <th>date</th>\n",
       "    </tr>\n",
       "  </thead>\n",
       "  <tbody>\n",
       "    <tr>\n",
       "      <th>1330</th>\n",
       "      <td>1620604800000</td>\n",
       "      <td>661.891709</td>\n",
       "      <td>1.022845e+11</td>\n",
       "      <td>5.216361e+09</td>\n",
       "      <td>2021-05-10</td>\n",
       "    </tr>\n",
       "    <tr>\n",
       "      <th>1331</th>\n",
       "      <td>1620691200000</td>\n",
       "      <td>634.589453</td>\n",
       "      <td>9.819093e+10</td>\n",
       "      <td>6.201737e+09</td>\n",
       "      <td>2021-05-11</td>\n",
       "    </tr>\n",
       "    <tr>\n",
       "      <th>1332</th>\n",
       "      <td>1620777600000</td>\n",
       "      <td>672.637825</td>\n",
       "      <td>1.035370e+11</td>\n",
       "      <td>5.966857e+09</td>\n",
       "      <td>2021-05-12</td>\n",
       "    </tr>\n",
       "    <tr>\n",
       "      <th>1333</th>\n",
       "      <td>1620864000000</td>\n",
       "      <td>602.435788</td>\n",
       "      <td>9.458010e+10</td>\n",
       "      <td>5.510123e+09</td>\n",
       "      <td>2021-05-13</td>\n",
       "    </tr>\n",
       "    <tr>\n",
       "      <th>1334</th>\n",
       "      <td>1621004552000</td>\n",
       "      <td>605.796197</td>\n",
       "      <td>9.358107e+10</td>\n",
       "      <td>6.782671e+09</td>\n",
       "      <td>2021-05-14</td>\n",
       "    </tr>\n",
       "  </tbody>\n",
       "</table>\n",
       "</div>"
      ],
      "text/plain": [
       "          timestamp   bnb_price  bnb_market_cap    bnb_volume        date\n",
       "1330  1620604800000  661.891709    1.022845e+11  5.216361e+09  2021-05-10\n",
       "1331  1620691200000  634.589453    9.819093e+10  6.201737e+09  2021-05-11\n",
       "1332  1620777600000  672.637825    1.035370e+11  5.966857e+09  2021-05-12\n",
       "1333  1620864000000  602.435788    9.458010e+10  5.510123e+09  2021-05-13\n",
       "1334  1621004552000  605.796197    9.358107e+10  6.782671e+09  2021-05-14"
      ]
     },
     "execution_count": 20,
     "metadata": {},
     "output_type": "execute_result"
    }
   ],
   "source": [
    "BNB.tail()"
   ]
  },
  {
   "cell_type": "code",
   "execution_count": 21,
   "metadata": {
    "ExecuteTime": {
     "end_time": "2021-05-14T15:34:58.025124Z",
     "start_time": "2021-05-14T15:34:57.583512Z"
    }
   },
   "outputs": [
    {
     "name": "stdout",
     "output_type": "stream",
     "text": [
      "0\n",
      "0\n"
     ]
    }
   ],
   "source": [
    "VET = get_db('vechain', 'vet')"
   ]
  },
  {
   "cell_type": "code",
   "execution_count": 22,
   "metadata": {
    "ExecuteTime": {
     "end_time": "2021-05-14T15:34:58.060370Z",
     "start_time": "2021-05-14T15:34:58.054429Z"
    }
   },
   "outputs": [
    {
     "data": {
      "text/html": [
       "<div>\n",
       "<style scoped>\n",
       "    .dataframe tbody tr th:only-of-type {\n",
       "        vertical-align: middle;\n",
       "    }\n",
       "\n",
       "    .dataframe tbody tr th {\n",
       "        vertical-align: top;\n",
       "    }\n",
       "\n",
       "    .dataframe thead th {\n",
       "        text-align: right;\n",
       "    }\n",
       "</style>\n",
       "<table border=\"1\" class=\"dataframe\">\n",
       "  <thead>\n",
       "    <tr style=\"text-align: right;\">\n",
       "      <th></th>\n",
       "      <th>timestamp</th>\n",
       "      <th>vet_price</th>\n",
       "      <th>vet_market_cap</th>\n",
       "      <th>vet_volume</th>\n",
       "      <th>date</th>\n",
       "    </tr>\n",
       "  </thead>\n",
       "  <tbody>\n",
       "    <tr>\n",
       "      <th>0</th>\n",
       "      <td>1532649600000</td>\n",
       "      <td>0.024916</td>\n",
       "      <td>1.317939e+09</td>\n",
       "      <td>9.689896e+07</td>\n",
       "      <td>2018-07-27</td>\n",
       "    </tr>\n",
       "    <tr>\n",
       "      <th>1</th>\n",
       "      <td>1532736000000</td>\n",
       "      <td>0.024978</td>\n",
       "      <td>1.321200e+09</td>\n",
       "      <td>4.303242e+07</td>\n",
       "      <td>2018-07-28</td>\n",
       "    </tr>\n",
       "    <tr>\n",
       "      <th>2</th>\n",
       "      <td>1532822400000</td>\n",
       "      <td>0.025667</td>\n",
       "      <td>1.357667e+09</td>\n",
       "      <td>1.792036e+07</td>\n",
       "      <td>2018-07-29</td>\n",
       "    </tr>\n",
       "    <tr>\n",
       "      <th>3</th>\n",
       "      <td>1532908800000</td>\n",
       "      <td>0.026372</td>\n",
       "      <td>1.394918e+09</td>\n",
       "      <td>2.354678e+07</td>\n",
       "      <td>2018-07-30</td>\n",
       "    </tr>\n",
       "    <tr>\n",
       "      <th>4</th>\n",
       "      <td>1532995200000</td>\n",
       "      <td>0.025333</td>\n",
       "      <td>1.339962e+09</td>\n",
       "      <td>2.743729e+07</td>\n",
       "      <td>2018-07-31</td>\n",
       "    </tr>\n",
       "  </tbody>\n",
       "</table>\n",
       "</div>"
      ],
      "text/plain": [
       "       timestamp  vet_price  vet_market_cap    vet_volume        date\n",
       "0  1532649600000   0.024916    1.317939e+09  9.689896e+07  2018-07-27\n",
       "1  1532736000000   0.024978    1.321200e+09  4.303242e+07  2018-07-28\n",
       "2  1532822400000   0.025667    1.357667e+09  1.792036e+07  2018-07-29\n",
       "3  1532908800000   0.026372    1.394918e+09  2.354678e+07  2018-07-30\n",
       "4  1532995200000   0.025333    1.339962e+09  2.743729e+07  2018-07-31"
      ]
     },
     "execution_count": 22,
     "metadata": {},
     "output_type": "execute_result"
    }
   ],
   "source": [
    "VET.head()"
   ]
  },
  {
   "cell_type": "code",
   "execution_count": 23,
   "metadata": {
    "ExecuteTime": {
     "end_time": "2021-05-14T15:34:59.930072Z",
     "start_time": "2021-05-14T15:34:58.081444Z"
    }
   },
   "outputs": [
    {
     "name": "stdout",
     "output_type": "stream",
     "text": [
      "0\n",
      "0\n"
     ]
    }
   ],
   "source": [
    "BTT = get_db('bittorrent-2', 'btt')"
   ]
  },
  {
   "cell_type": "code",
   "execution_count": 24,
   "metadata": {
    "ExecuteTime": {
     "end_time": "2021-05-14T15:34:59.965242Z",
     "start_time": "2021-05-14T15:34:59.959184Z"
    }
   },
   "outputs": [
    {
     "data": {
      "text/html": [
       "<div>\n",
       "<style scoped>\n",
       "    .dataframe tbody tr th:only-of-type {\n",
       "        vertical-align: middle;\n",
       "    }\n",
       "\n",
       "    .dataframe tbody tr th {\n",
       "        vertical-align: top;\n",
       "    }\n",
       "\n",
       "    .dataframe thead th {\n",
       "        text-align: right;\n",
       "    }\n",
       "</style>\n",
       "<table border=\"1\" class=\"dataframe\">\n",
       "  <thead>\n",
       "    <tr style=\"text-align: right;\">\n",
       "      <th></th>\n",
       "      <th>timestamp</th>\n",
       "      <th>btt_price</th>\n",
       "      <th>btt_market_cap</th>\n",
       "      <th>btt_volume</th>\n",
       "      <th>date</th>\n",
       "    </tr>\n",
       "  </thead>\n",
       "  <tbody>\n",
       "    <tr>\n",
       "      <th>0</th>\n",
       "      <td>1548979200000</td>\n",
       "      <td>0.000495</td>\n",
       "      <td>0.0</td>\n",
       "      <td>1.857231e+08</td>\n",
       "      <td>2019-02-01</td>\n",
       "    </tr>\n",
       "    <tr>\n",
       "      <th>1</th>\n",
       "      <td>1549065600000</td>\n",
       "      <td>0.000473</td>\n",
       "      <td>0.0</td>\n",
       "      <td>3.358889e+07</td>\n",
       "      <td>2019-02-02</td>\n",
       "    </tr>\n",
       "    <tr>\n",
       "      <th>2</th>\n",
       "      <td>1549152000000</td>\n",
       "      <td>0.000433</td>\n",
       "      <td>0.0</td>\n",
       "      <td>1.673039e+07</td>\n",
       "      <td>2019-02-03</td>\n",
       "    </tr>\n",
       "    <tr>\n",
       "      <th>3</th>\n",
       "      <td>1549238400000</td>\n",
       "      <td>0.000601</td>\n",
       "      <td>0.0</td>\n",
       "      <td>9.556115e+07</td>\n",
       "      <td>2019-02-04</td>\n",
       "    </tr>\n",
       "    <tr>\n",
       "      <th>4</th>\n",
       "      <td>1549324800000</td>\n",
       "      <td>0.000863</td>\n",
       "      <td>0.0</td>\n",
       "      <td>3.604663e+08</td>\n",
       "      <td>2019-02-05</td>\n",
       "    </tr>\n",
       "  </tbody>\n",
       "</table>\n",
       "</div>"
      ],
      "text/plain": [
       "       timestamp  btt_price  btt_market_cap    btt_volume        date\n",
       "0  1548979200000   0.000495             0.0  1.857231e+08  2019-02-01\n",
       "1  1549065600000   0.000473             0.0  3.358889e+07  2019-02-02\n",
       "2  1549152000000   0.000433             0.0  1.673039e+07  2019-02-03\n",
       "3  1549238400000   0.000601             0.0  9.556115e+07  2019-02-04\n",
       "4  1549324800000   0.000863             0.0  3.604663e+08  2019-02-05"
      ]
     },
     "execution_count": 24,
     "metadata": {},
     "output_type": "execute_result"
    }
   ],
   "source": [
    "BTT.head()"
   ]
  },
  {
   "cell_type": "code",
   "execution_count": 25,
   "metadata": {
    "ExecuteTime": {
     "end_time": "2021-05-14T15:35:09.538207Z",
     "start_time": "2021-05-14T15:34:59.984929Z"
    }
   },
   "outputs": [
    {
     "name": "stdout",
     "output_type": "stream",
     "text": [
      "0\n",
      "0\n"
     ]
    }
   ],
   "source": [
    "HOT = get_db('holotoken', 'hot')"
   ]
  },
  {
   "cell_type": "code",
   "execution_count": 26,
   "metadata": {
    "ExecuteTime": {
     "end_time": "2021-05-14T15:35:09.577936Z",
     "start_time": "2021-05-14T15:35:09.572772Z"
    }
   },
   "outputs": [
    {
     "data": {
      "text/html": [
       "<div>\n",
       "<style scoped>\n",
       "    .dataframe tbody tr th:only-of-type {\n",
       "        vertical-align: middle;\n",
       "    }\n",
       "\n",
       "    .dataframe tbody tr th {\n",
       "        vertical-align: top;\n",
       "    }\n",
       "\n",
       "    .dataframe thead th {\n",
       "        text-align: right;\n",
       "    }\n",
       "</style>\n",
       "<table border=\"1\" class=\"dataframe\">\n",
       "  <thead>\n",
       "    <tr style=\"text-align: right;\">\n",
       "      <th></th>\n",
       "      <th>timestamp</th>\n",
       "      <th>hot_price</th>\n",
       "      <th>hot_market_cap</th>\n",
       "      <th>hot_volume</th>\n",
       "      <th>date</th>\n",
       "    </tr>\n",
       "  </thead>\n",
       "  <tbody>\n",
       "    <tr>\n",
       "      <th>0</th>\n",
       "      <td>1525046400000</td>\n",
       "      <td>0.000411</td>\n",
       "      <td>1.564198e+05</td>\n",
       "      <td>2.556226e+06</td>\n",
       "      <td>2018-04-30</td>\n",
       "    </tr>\n",
       "    <tr>\n",
       "      <th>1</th>\n",
       "      <td>1525132800000</td>\n",
       "      <td>0.000784</td>\n",
       "      <td>2.986889e+05</td>\n",
       "      <td>7.202907e+06</td>\n",
       "      <td>2018-05-01</td>\n",
       "    </tr>\n",
       "    <tr>\n",
       "      <th>2</th>\n",
       "      <td>1525219200000</td>\n",
       "      <td>0.000714</td>\n",
       "      <td>2.720069e+05</td>\n",
       "      <td>5.556289e+06</td>\n",
       "      <td>2018-05-02</td>\n",
       "    </tr>\n",
       "    <tr>\n",
       "      <th>3</th>\n",
       "      <td>1525305600000</td>\n",
       "      <td>0.000932</td>\n",
       "      <td>1.654271e+08</td>\n",
       "      <td>4.047131e+06</td>\n",
       "      <td>2018-05-03</td>\n",
       "    </tr>\n",
       "    <tr>\n",
       "      <th>4</th>\n",
       "      <td>1525392000000</td>\n",
       "      <td>0.001244</td>\n",
       "      <td>2.208279e+08</td>\n",
       "      <td>2.973560e+06</td>\n",
       "      <td>2018-05-04</td>\n",
       "    </tr>\n",
       "  </tbody>\n",
       "</table>\n",
       "</div>"
      ],
      "text/plain": [
       "       timestamp  hot_price  hot_market_cap    hot_volume        date\n",
       "0  1525046400000   0.000411    1.564198e+05  2.556226e+06  2018-04-30\n",
       "1  1525132800000   0.000784    2.986889e+05  7.202907e+06  2018-05-01\n",
       "2  1525219200000   0.000714    2.720069e+05  5.556289e+06  2018-05-02\n",
       "3  1525305600000   0.000932    1.654271e+08  4.047131e+06  2018-05-03\n",
       "4  1525392000000   0.001244    2.208279e+08  2.973560e+06  2018-05-04"
      ]
     },
     "execution_count": 26,
     "metadata": {},
     "output_type": "execute_result"
    }
   ],
   "source": [
    "HOT.head()"
   ]
  },
  {
   "cell_type": "code",
   "execution_count": 27,
   "metadata": {
    "ExecuteTime": {
     "end_time": "2021-05-14T15:35:09.616823Z",
     "start_time": "2021-05-14T15:35:09.599164Z"
    }
   },
   "outputs": [],
   "source": [
    "final_df = (\n",
    "    BTC[['date', 'btc_price', 'btc_volume', 'btc_market_cap']]\n",
    "    .merge(ETH.drop('timestamp', axis=1), on='date', how='left')\n",
    "    .merge(BNB.drop('timestamp', axis=1), on='date', how='left')\n",
    "    .merge(VET.drop('timestamp', axis=1), on='date', how='left')\n",
    "    .merge(BTT.drop('timestamp', axis=1), on='date', how='left')\n",
    "    .merge(HOT.drop('timestamp', axis=1), on='date', how='left')\n",
    ").fillna(0).set_index('date')"
   ]
  },
  {
   "cell_type": "code",
   "execution_count": 28,
   "metadata": {
    "ExecuteTime": {
     "end_time": "2021-05-14T15:35:09.651238Z",
     "start_time": "2021-05-14T15:35:09.641383Z"
    }
   },
   "outputs": [
    {
     "data": {
      "text/html": [
       "<div>\n",
       "<style scoped>\n",
       "    .dataframe tbody tr th:only-of-type {\n",
       "        vertical-align: middle;\n",
       "    }\n",
       "\n",
       "    .dataframe tbody tr th {\n",
       "        vertical-align: top;\n",
       "    }\n",
       "\n",
       "    .dataframe thead th {\n",
       "        text-align: right;\n",
       "    }\n",
       "</style>\n",
       "<table border=\"1\" class=\"dataframe\">\n",
       "  <thead>\n",
       "    <tr style=\"text-align: right;\">\n",
       "      <th></th>\n",
       "      <th>btc_price</th>\n",
       "      <th>btc_volume</th>\n",
       "      <th>btc_market_cap</th>\n",
       "      <th>eth_price</th>\n",
       "      <th>eth_market_cap</th>\n",
       "      <th>eth_volume</th>\n",
       "      <th>bnb_price</th>\n",
       "      <th>bnb_market_cap</th>\n",
       "      <th>bnb_volume</th>\n",
       "      <th>vet_price</th>\n",
       "      <th>vet_market_cap</th>\n",
       "      <th>vet_volume</th>\n",
       "      <th>btt_price</th>\n",
       "      <th>btt_market_cap</th>\n",
       "      <th>btt_volume</th>\n",
       "      <th>hot_price</th>\n",
       "      <th>hot_market_cap</th>\n",
       "      <th>hot_volume</th>\n",
       "    </tr>\n",
       "    <tr>\n",
       "      <th>date</th>\n",
       "      <th></th>\n",
       "      <th></th>\n",
       "      <th></th>\n",
       "      <th></th>\n",
       "      <th></th>\n",
       "      <th></th>\n",
       "      <th></th>\n",
       "      <th></th>\n",
       "      <th></th>\n",
       "      <th></th>\n",
       "      <th></th>\n",
       "      <th></th>\n",
       "      <th></th>\n",
       "      <th></th>\n",
       "      <th></th>\n",
       "      <th></th>\n",
       "      <th></th>\n",
       "      <th></th>\n",
       "    </tr>\n",
       "  </thead>\n",
       "  <tbody>\n",
       "    <tr>\n",
       "      <th>2021-05-10</th>\n",
       "      <td>58213.926294</td>\n",
       "      <td>6.790628e+10</td>\n",
       "      <td>1.088903e+12</td>\n",
       "      <td>3932.754068</td>\n",
       "      <td>4.554483e+11</td>\n",
       "      <td>6.162566e+10</td>\n",
       "      <td>661.891709</td>\n",
       "      <td>1.022845e+11</td>\n",
       "      <td>5.216361e+09</td>\n",
       "      <td>0.235511</td>\n",
       "      <td>1.528496e+10</td>\n",
       "      <td>2.508160e+09</td>\n",
       "      <td>0.007495</td>\n",
       "      <td>4.952431e+09</td>\n",
       "      <td>2.075349e+09</td>\n",
       "      <td>0.014426</td>\n",
       "      <td>2.563265e+09</td>\n",
       "      <td>3.349599e+08</td>\n",
       "    </tr>\n",
       "    <tr>\n",
       "      <th>2021-05-11</th>\n",
       "      <td>55901.667595</td>\n",
       "      <td>7.667298e+10</td>\n",
       "      <td>1.045714e+12</td>\n",
       "      <td>3979.608652</td>\n",
       "      <td>4.610408e+11</td>\n",
       "      <td>8.082722e+10</td>\n",
       "      <td>634.589453</td>\n",
       "      <td>9.819093e+10</td>\n",
       "      <td>6.201737e+09</td>\n",
       "      <td>0.207030</td>\n",
       "      <td>1.351103e+10</td>\n",
       "      <td>2.302051e+09</td>\n",
       "      <td>0.006615</td>\n",
       "      <td>4.376568e+09</td>\n",
       "      <td>1.937888e+09</td>\n",
       "      <td>0.012813</td>\n",
       "      <td>2.272262e+09</td>\n",
       "      <td>3.665664e+08</td>\n",
       "    </tr>\n",
       "    <tr>\n",
       "      <th>2021-05-12</th>\n",
       "      <td>56928.972357</td>\n",
       "      <td>6.772671e+10</td>\n",
       "      <td>1.064993e+12</td>\n",
       "      <td>4182.790286</td>\n",
       "      <td>4.813810e+11</td>\n",
       "      <td>6.786920e+10</td>\n",
       "      <td>672.637825</td>\n",
       "      <td>1.035370e+11</td>\n",
       "      <td>5.966857e+09</td>\n",
       "      <td>0.214890</td>\n",
       "      <td>1.387288e+10</td>\n",
       "      <td>2.223756e+09</td>\n",
       "      <td>0.007022</td>\n",
       "      <td>4.596667e+09</td>\n",
       "      <td>1.828852e+09</td>\n",
       "      <td>0.013024</td>\n",
       "      <td>2.309645e+09</td>\n",
       "      <td>2.882982e+08</td>\n",
       "    </tr>\n",
       "    <tr>\n",
       "      <th>2021-05-13</th>\n",
       "      <td>50004.762183</td>\n",
       "      <td>7.552393e+10</td>\n",
       "      <td>9.355125e+11</td>\n",
       "      <td>3906.108903</td>\n",
       "      <td>4.656470e+11</td>\n",
       "      <td>7.877203e+10</td>\n",
       "      <td>602.435788</td>\n",
       "      <td>9.458010e+10</td>\n",
       "      <td>5.510123e+09</td>\n",
       "      <td>0.171814</td>\n",
       "      <td>1.185861e+10</td>\n",
       "      <td>1.861900e+09</td>\n",
       "      <td>0.005928</td>\n",
       "      <td>4.064197e+09</td>\n",
       "      <td>1.257547e+09</td>\n",
       "      <td>0.011120</td>\n",
       "      <td>2.033784e+09</td>\n",
       "      <td>2.580503e+08</td>\n",
       "    </tr>\n",
       "    <tr>\n",
       "      <th>2021-05-14</th>\n",
       "      <td>50821.913027</td>\n",
       "      <td>7.256578e+10</td>\n",
       "      <td>9.481303e+11</td>\n",
       "      <td>4085.356112</td>\n",
       "      <td>4.705931e+11</td>\n",
       "      <td>7.500975e+10</td>\n",
       "      <td>605.796197</td>\n",
       "      <td>9.358107e+10</td>\n",
       "      <td>6.782671e+09</td>\n",
       "      <td>0.189787</td>\n",
       "      <td>1.225355e+10</td>\n",
       "      <td>2.252039e+09</td>\n",
       "      <td>0.006297</td>\n",
       "      <td>4.123549e+09</td>\n",
       "      <td>1.618206e+09</td>\n",
       "      <td>0.012052</td>\n",
       "      <td>2.136776e+09</td>\n",
       "      <td>2.990738e+08</td>\n",
       "    </tr>\n",
       "  </tbody>\n",
       "</table>\n",
       "</div>"
      ],
      "text/plain": [
       "               btc_price    btc_volume  btc_market_cap    eth_price  \\\n",
       "date                                                                  \n",
       "2021-05-10  58213.926294  6.790628e+10    1.088903e+12  3932.754068   \n",
       "2021-05-11  55901.667595  7.667298e+10    1.045714e+12  3979.608652   \n",
       "2021-05-12  56928.972357  6.772671e+10    1.064993e+12  4182.790286   \n",
       "2021-05-13  50004.762183  7.552393e+10    9.355125e+11  3906.108903   \n",
       "2021-05-14  50821.913027  7.256578e+10    9.481303e+11  4085.356112   \n",
       "\n",
       "            eth_market_cap    eth_volume   bnb_price  bnb_market_cap  \\\n",
       "date                                                                   \n",
       "2021-05-10    4.554483e+11  6.162566e+10  661.891709    1.022845e+11   \n",
       "2021-05-11    4.610408e+11  8.082722e+10  634.589453    9.819093e+10   \n",
       "2021-05-12    4.813810e+11  6.786920e+10  672.637825    1.035370e+11   \n",
       "2021-05-13    4.656470e+11  7.877203e+10  602.435788    9.458010e+10   \n",
       "2021-05-14    4.705931e+11  7.500975e+10  605.796197    9.358107e+10   \n",
       "\n",
       "              bnb_volume  vet_price  vet_market_cap    vet_volume  btt_price  \\\n",
       "date                                                                           \n",
       "2021-05-10  5.216361e+09   0.235511    1.528496e+10  2.508160e+09   0.007495   \n",
       "2021-05-11  6.201737e+09   0.207030    1.351103e+10  2.302051e+09   0.006615   \n",
       "2021-05-12  5.966857e+09   0.214890    1.387288e+10  2.223756e+09   0.007022   \n",
       "2021-05-13  5.510123e+09   0.171814    1.185861e+10  1.861900e+09   0.005928   \n",
       "2021-05-14  6.782671e+09   0.189787    1.225355e+10  2.252039e+09   0.006297   \n",
       "\n",
       "            btt_market_cap    btt_volume  hot_price  hot_market_cap  \\\n",
       "date                                                                  \n",
       "2021-05-10    4.952431e+09  2.075349e+09   0.014426    2.563265e+09   \n",
       "2021-05-11    4.376568e+09  1.937888e+09   0.012813    2.272262e+09   \n",
       "2021-05-12    4.596667e+09  1.828852e+09   0.013024    2.309645e+09   \n",
       "2021-05-13    4.064197e+09  1.257547e+09   0.011120    2.033784e+09   \n",
       "2021-05-14    4.123549e+09  1.618206e+09   0.012052    2.136776e+09   \n",
       "\n",
       "              hot_volume  \n",
       "date                      \n",
       "2021-05-10  3.349599e+08  \n",
       "2021-05-11  3.665664e+08  \n",
       "2021-05-12  2.882982e+08  \n",
       "2021-05-13  2.580503e+08  \n",
       "2021-05-14  2.990738e+08  "
      ]
     },
     "execution_count": 28,
     "metadata": {},
     "output_type": "execute_result"
    }
   ],
   "source": [
    "final_df.tail()"
   ]
  },
  {
   "cell_type": "markdown",
   "metadata": {},
   "source": [
    "# EDA"
   ]
  },
  {
   "cell_type": "markdown",
   "metadata": {},
   "source": [
    "Market Cap is calculated by multiplying the number of existing coins by its value. It is expected to be highly correlated with the respective price as the coin number should be more or less constant, and therefore end up being redundant for our model. Let's calculate the correlation between variable:"
   ]
  },
  {
   "cell_type": "code",
   "execution_count": 29,
   "metadata": {
    "ExecuteTime": {
     "end_time": "2021-05-14T15:35:10.088199Z",
     "start_time": "2021-05-14T15:35:09.676673Z"
    }
   },
   "outputs": [
    {
     "data": {
      "image/png": "[encoded data removed]",
      "text/plain": [
       "<Figure size 864x288 with 2 Axes>"
      ]
     },
     "metadata": {
      "needs_background": "light"
     },
     "output_type": "display_data"
    }
   ],
   "source": [
    "corr_matrix = final_df.corr()\n",
    "lower_triangle_mask = np.triu(np.ones(corr_matrix.shape)).astype(np.bool)\n",
    "cor_mat_lower = corr_matrix.mask(lower_triangle_mask)\n",
    "\n",
    "plt.figure(figsize = (12,4))\n",
    "\n",
    "sns.heatmap(cor_mat_lower,\n",
    "            annot=True,\n",
    "            cmap='RdBu_r')\n",
    "\n",
    "plt.show()"
   ]
  },
  {
   "cell_type": "code",
   "execution_count": 106,
   "metadata": {
    "ExecuteTime": {
     "end_time": "2021-05-05T16:53:17.636540Z",
     "start_time": "2021-05-05T16:53:17.627242Z"
    }
   },
   "outputs": [],
   "source": [
    "final_df = final_df.drop(columns = ['btc_market_cap', 'eth_market_cap', 'bnb_market_cap', 'vet_market_cap', 'btt_market_cap', 'hot_market_cap'])"
   ]
  },
  {
   "cell_type": "code",
   "execution_count": 107,
   "metadata": {
    "ExecuteTime": {
     "end_time": "2021-05-05T16:53:18.184761Z",
     "start_time": "2021-05-05T16:53:18.103278Z"
    }
   },
   "outputs": [],
   "source": [
    "final_df.to_csv('../df_to_model.csv')"
   ]
  },
  {
   "cell_type": "code",
   "execution_count": null,
   "metadata": {},
   "outputs": [],
   "source": []
  },
  {
   "cell_type": "code",
   "execution_count": null,
   "metadata": {},
   "outputs": [],
   "source": []
  }
 ],
 "metadata": {
  "kernelspec": {
   "display_name": "Python 3",
   "language": "python",
   "name": "python3"
  },
  "language_info": {
   "codemirror_mode": {
    "name": "ipython",
    "version": 3
   },
   "file_extension": ".py",
   "mimetype": "text/x-python",
   "name": "python",
   "nbconvert_exporter": "python",
   "pygments_lexer": "ipython3",
   "version": "3.8.5"
  },
  "toc": {
   "base_numbering": 1,
   "nav_menu": {},
   "number_sections": false,
   "sideBar": true,
   "skip_h1_title": false,
   "title_cell": "Table of Contents",
   "title_sidebar": "Contents",
   "toc_cell": false,
   "toc_position": {},
   "toc_section_display": true,
   "toc_window_display": false
  },
  "varInspector": {
   "cols": {
    "lenName": 16,
    "lenType": 16,
    "lenVar": 40
   },
   "kernels_config": {
    "python": {
     "delete_cmd_postfix": "",
     "delete_cmd_prefix": "del ",
     "library": "var_list.py",
     "varRefreshCmd": "print(var_dic_list())"
    },
    "r": {
     "delete_cmd_postfix": ") ",
     "delete_cmd_prefix": "rm(",
     "library": "var_list.r",
     "varRefreshCmd": "cat(var_dic_list()) "
    }
   },
   "types_to_exclude": [
    "module",
    "function",
    "builtin_function_or_method",
    "instance",
    "_Feature"
   ],
   "window_display": false
  }
 },
 "nbformat": 4,
 "nbformat_minor": 4
}
