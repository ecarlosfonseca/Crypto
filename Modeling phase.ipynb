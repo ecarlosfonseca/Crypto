{
 "cells": [
  {
   "cell_type": "code",
   "execution_count": 92,
   "metadata": {
    "ExecuteTime": {
     "end_time": "2021-05-05T17:29:58.592754Z",
     "start_time": "2021-05-05T17:29:58.588449Z"
    }
   },
   "outputs": [],
   "source": [
    "import pandas as pd\n",
    "\n",
    "import matplotlib.pyplot as plt\n",
    "\n",
    "from sklearn.ensemble import RandomForestRegressor\n",
    "from sklearn.model_selection import train_test_split\n",
    "from sklearn.metrics import mean_squared_error"
   ]
  },
  {
   "cell_type": "code",
   "execution_count": 10,
   "metadata": {
    "ExecuteTime": {
     "end_time": "2021-05-05T16:53:23.581170Z",
     "start_time": "2021-05-05T16:53:23.561443Z"
    }
   },
   "outputs": [],
   "source": [
    "data = pd.read_csv('df_to_model.csv').set_index('date')"
   ]
  },
  {
   "cell_type": "code",
   "execution_count": 48,
   "metadata": {
    "ExecuteTime": {
     "end_time": "2021-05-05T17:09:13.678476Z",
     "start_time": "2021-05-05T17:09:13.651343Z"
    }
   },
   "outputs": [
    {
     "data": {
      "text/html": [
       "<div>\n",
       "<style scoped>\n",
       "    .dataframe tbody tr th:only-of-type {\n",
       "        vertical-align: middle;\n",
       "    }\n",
       "\n",
       "    .dataframe tbody tr th {\n",
       "        vertical-align: top;\n",
       "    }\n",
       "\n",
       "    .dataframe thead th {\n",
       "        text-align: right;\n",
       "    }\n",
       "</style>\n",
       "<table border=\"1\" class=\"dataframe\">\n",
       "  <thead>\n",
       "    <tr style=\"text-align: right;\">\n",
       "      <th></th>\n",
       "      <th>btc_price</th>\n",
       "      <th>btc_volume</th>\n",
       "      <th>eth_price</th>\n",
       "      <th>eth_volume</th>\n",
       "      <th>bnb_price</th>\n",
       "      <th>bnb_volume</th>\n",
       "      <th>vet_price</th>\n",
       "      <th>vet_volume</th>\n",
       "      <th>btt_price</th>\n",
       "      <th>btt_volume</th>\n",
       "      <th>hot_price</th>\n",
       "      <th>hot_volume</th>\n",
       "    </tr>\n",
       "    <tr>\n",
       "      <th>date</th>\n",
       "      <th></th>\n",
       "      <th></th>\n",
       "      <th></th>\n",
       "      <th></th>\n",
       "      <th></th>\n",
       "      <th></th>\n",
       "      <th></th>\n",
       "      <th></th>\n",
       "      <th></th>\n",
       "      <th></th>\n",
       "      <th></th>\n",
       "      <th></th>\n",
       "    </tr>\n",
       "  </thead>\n",
       "  <tbody>\n",
       "    <tr>\n",
       "      <th>2013-04-28</th>\n",
       "      <td>135.30</td>\n",
       "      <td>0.0</td>\n",
       "      <td>0.0</td>\n",
       "      <td>0.0</td>\n",
       "      <td>0.0</td>\n",
       "      <td>0.0</td>\n",
       "      <td>0.0</td>\n",
       "      <td>0.0</td>\n",
       "      <td>0.0</td>\n",
       "      <td>0.0</td>\n",
       "      <td>0.0</td>\n",
       "      <td>0.0</td>\n",
       "    </tr>\n",
       "    <tr>\n",
       "      <th>2013-04-29</th>\n",
       "      <td>141.96</td>\n",
       "      <td>0.0</td>\n",
       "      <td>0.0</td>\n",
       "      <td>0.0</td>\n",
       "      <td>0.0</td>\n",
       "      <td>0.0</td>\n",
       "      <td>0.0</td>\n",
       "      <td>0.0</td>\n",
       "      <td>0.0</td>\n",
       "      <td>0.0</td>\n",
       "      <td>0.0</td>\n",
       "      <td>0.0</td>\n",
       "    </tr>\n",
       "    <tr>\n",
       "      <th>2013-04-30</th>\n",
       "      <td>135.30</td>\n",
       "      <td>0.0</td>\n",
       "      <td>0.0</td>\n",
       "      <td>0.0</td>\n",
       "      <td>0.0</td>\n",
       "      <td>0.0</td>\n",
       "      <td>0.0</td>\n",
       "      <td>0.0</td>\n",
       "      <td>0.0</td>\n",
       "      <td>0.0</td>\n",
       "      <td>0.0</td>\n",
       "      <td>0.0</td>\n",
       "    </tr>\n",
       "    <tr>\n",
       "      <th>2013-05-01</th>\n",
       "      <td>117.00</td>\n",
       "      <td>0.0</td>\n",
       "      <td>0.0</td>\n",
       "      <td>0.0</td>\n",
       "      <td>0.0</td>\n",
       "      <td>0.0</td>\n",
       "      <td>0.0</td>\n",
       "      <td>0.0</td>\n",
       "      <td>0.0</td>\n",
       "      <td>0.0</td>\n",
       "      <td>0.0</td>\n",
       "      <td>0.0</td>\n",
       "    </tr>\n",
       "    <tr>\n",
       "      <th>2013-05-02</th>\n",
       "      <td>103.43</td>\n",
       "      <td>0.0</td>\n",
       "      <td>0.0</td>\n",
       "      <td>0.0</td>\n",
       "      <td>0.0</td>\n",
       "      <td>0.0</td>\n",
       "      <td>0.0</td>\n",
       "      <td>0.0</td>\n",
       "      <td>0.0</td>\n",
       "      <td>0.0</td>\n",
       "      <td>0.0</td>\n",
       "      <td>0.0</td>\n",
       "    </tr>\n",
       "  </tbody>\n",
       "</table>\n",
       "</div>"
      ],
      "text/plain": [
       "            btc_price  btc_volume  eth_price  eth_volume  bnb_price  \\\n",
       "date                                                                  \n",
       "2013-04-28     135.30         0.0        0.0         0.0        0.0   \n",
       "2013-04-29     141.96         0.0        0.0         0.0        0.0   \n",
       "2013-04-30     135.30         0.0        0.0         0.0        0.0   \n",
       "2013-05-01     117.00         0.0        0.0         0.0        0.0   \n",
       "2013-05-02     103.43         0.0        0.0         0.0        0.0   \n",
       "\n",
       "            bnb_volume  vet_price  vet_volume  btt_price  btt_volume  \\\n",
       "date                                                                   \n",
       "2013-04-28         0.0        0.0         0.0        0.0         0.0   \n",
       "2013-04-29         0.0        0.0         0.0        0.0         0.0   \n",
       "2013-04-30         0.0        0.0         0.0        0.0         0.0   \n",
       "2013-05-01         0.0        0.0         0.0        0.0         0.0   \n",
       "2013-05-02         0.0        0.0         0.0        0.0         0.0   \n",
       "\n",
       "            hot_price  hot_volume  \n",
       "date                               \n",
       "2013-04-28        0.0         0.0  \n",
       "2013-04-29        0.0         0.0  \n",
       "2013-04-30        0.0         0.0  \n",
       "2013-05-01        0.0         0.0  \n",
       "2013-05-02        0.0         0.0  "
      ]
     },
     "execution_count": 48,
     "metadata": {},
     "output_type": "execute_result"
    }
   ],
   "source": [
    "data.head()"
   ]
  },
  {
   "cell_type": "markdown",
   "metadata": {},
   "source": [
    "Lets try to predict hot price and verify if it can be predicted by past information from other coins. For this we will drop its volume and create some lagged values."
   ]
  },
  {
   "cell_type": "code",
   "execution_count": 54,
   "metadata": {
    "ExecuteTime": {
     "end_time": "2021-05-05T17:14:21.196025Z",
     "start_time": "2021-05-05T17:14:21.190474Z"
    }
   },
   "outputs": [],
   "source": [
    "data = data.loc[data.hot_price!=0]"
   ]
  },
  {
   "cell_type": "code",
   "execution_count": 55,
   "metadata": {
    "ExecuteTime": {
     "end_time": "2021-05-05T17:14:23.382297Z",
     "start_time": "2021-05-05T17:14:23.375211Z"
    }
   },
   "outputs": [],
   "source": [
    "X = data.drop(columns = ['hot_price', 'hot_volume'])\n",
    "y = data[['hot_price']]"
   ]
  },
  {
   "cell_type": "code",
   "execution_count": 56,
   "metadata": {
    "ExecuteTime": {
     "end_time": "2021-05-05T17:14:24.262589Z",
     "start_time": "2021-05-05T17:14:24.254451Z"
    }
   },
   "outputs": [],
   "source": [
    "lag_1 = X.shift(1)\n",
    "lag_1.columns = ['lagged_1_' + column for column in X.columns]\n",
    "\n",
    "lag_2 = X.shift(2)\n",
    "lag_2.columns = ['lagged_2_' + column for column in X.columns]\n",
    "\n",
    "lag_3 = X.shift(3)\n",
    "lag_3.columns = ['lagged_3_' + column for column in X.columns]"
   ]
  },
  {
   "cell_type": "code",
   "execution_count": 57,
   "metadata": {
    "ExecuteTime": {
     "end_time": "2021-05-05T17:14:25.585274Z",
     "start_time": "2021-05-05T17:14:25.574393Z"
    },
    "scrolled": true
   },
   "outputs": [],
   "source": [
    "X_lagged = (\n",
    "    lag_1.iloc[3:]\n",
    "    .join(lag_2.iloc[3:])\n",
    "    .join(lag_3.iloc[3:])\n",
    ")"
   ]
  },
  {
   "cell_type": "code",
   "execution_count": 62,
   "metadata": {
    "ExecuteTime": {
     "end_time": "2021-05-05T17:16:59.882669Z",
     "start_time": "2021-05-05T17:16:59.848782Z"
    }
   },
   "outputs": [
    {
     "data": {
      "text/html": [
       "<div>\n",
       "<style scoped>\n",
       "    .dataframe tbody tr th:only-of-type {\n",
       "        vertical-align: middle;\n",
       "    }\n",
       "\n",
       "    .dataframe tbody tr th {\n",
       "        vertical-align: top;\n",
       "    }\n",
       "\n",
       "    .dataframe thead th {\n",
       "        text-align: right;\n",
       "    }\n",
       "</style>\n",
       "<table border=\"1\" class=\"dataframe\">\n",
       "  <thead>\n",
       "    <tr style=\"text-align: right;\">\n",
       "      <th></th>\n",
       "      <th>lagged_1_btc_price</th>\n",
       "      <th>lagged_1_btc_volume</th>\n",
       "      <th>lagged_1_eth_price</th>\n",
       "      <th>lagged_1_eth_volume</th>\n",
       "      <th>lagged_1_bnb_price</th>\n",
       "      <th>lagged_1_bnb_volume</th>\n",
       "      <th>lagged_1_vet_price</th>\n",
       "      <th>lagged_1_vet_volume</th>\n",
       "      <th>lagged_1_btt_price</th>\n",
       "      <th>lagged_1_btt_volume</th>\n",
       "      <th>...</th>\n",
       "      <th>lagged_3_btc_price</th>\n",
       "      <th>lagged_3_btc_volume</th>\n",
       "      <th>lagged_3_eth_price</th>\n",
       "      <th>lagged_3_eth_volume</th>\n",
       "      <th>lagged_3_bnb_price</th>\n",
       "      <th>lagged_3_bnb_volume</th>\n",
       "      <th>lagged_3_vet_price</th>\n",
       "      <th>lagged_3_vet_volume</th>\n",
       "      <th>lagged_3_btt_price</th>\n",
       "      <th>lagged_3_btt_volume</th>\n",
       "    </tr>\n",
       "    <tr>\n",
       "      <th>date</th>\n",
       "      <th></th>\n",
       "      <th></th>\n",
       "      <th></th>\n",
       "      <th></th>\n",
       "      <th></th>\n",
       "      <th></th>\n",
       "      <th></th>\n",
       "      <th></th>\n",
       "      <th></th>\n",
       "      <th></th>\n",
       "      <th></th>\n",
       "      <th></th>\n",
       "      <th></th>\n",
       "      <th></th>\n",
       "      <th></th>\n",
       "      <th></th>\n",
       "      <th></th>\n",
       "      <th></th>\n",
       "      <th></th>\n",
       "      <th></th>\n",
       "      <th></th>\n",
       "    </tr>\n",
       "  </thead>\n",
       "  <tbody>\n",
       "    <tr>\n",
       "      <th>2018-05-03</th>\n",
       "      <td>9024.387512</td>\n",
       "      <td>2.661071e+09</td>\n",
       "      <td>665.225786</td>\n",
       "      <td>1.342793e+09</td>\n",
       "      <td>14.060865</td>\n",
       "      <td>5.595434e+07</td>\n",
       "      <td>0.0</td>\n",
       "      <td>0.0</td>\n",
       "      <td>0.0</td>\n",
       "      <td>0.0</td>\n",
       "      <td>...</td>\n",
       "      <td>9325.628851</td>\n",
       "      <td>2.827555e+09</td>\n",
       "      <td>680.120495</td>\n",
       "      <td>1.180427e+09</td>\n",
       "      <td>14.947588</td>\n",
       "      <td>7.530959e+07</td>\n",
       "      <td>0.0</td>\n",
       "      <td>0.0</td>\n",
       "      <td>0.0</td>\n",
       "      <td>0.0</td>\n",
       "    </tr>\n",
       "    <tr>\n",
       "      <th>2018-05-04</th>\n",
       "      <td>9122.653014</td>\n",
       "      <td>2.179559e+09</td>\n",
       "      <td>676.552564</td>\n",
       "      <td>1.153897e+09</td>\n",
       "      <td>14.249384</td>\n",
       "      <td>5.661672e+07</td>\n",
       "      <td>0.0</td>\n",
       "      <td>0.0</td>\n",
       "      <td>0.0</td>\n",
       "      <td>0.0</td>\n",
       "      <td>...</td>\n",
       "      <td>9198.189510</td>\n",
       "      <td>2.508704e+09</td>\n",
       "      <td>662.732736</td>\n",
       "      <td>1.271088e+09</td>\n",
       "      <td>14.246400</td>\n",
       "      <td>5.727836e+07</td>\n",
       "      <td>0.0</td>\n",
       "      <td>0.0</td>\n",
       "      <td>0.0</td>\n",
       "      <td>0.0</td>\n",
       "    </tr>\n",
       "    <tr>\n",
       "      <th>2018-05-05</th>\n",
       "      <td>9551.135184</td>\n",
       "      <td>1.228125e+09</td>\n",
       "      <td>781.425780</td>\n",
       "      <td>1.005515e+09</td>\n",
       "      <td>15.448140</td>\n",
       "      <td>1.583041e+05</td>\n",
       "      <td>0.0</td>\n",
       "      <td>0.0</td>\n",
       "      <td>0.0</td>\n",
       "      <td>0.0</td>\n",
       "      <td>...</td>\n",
       "      <td>9024.387512</td>\n",
       "      <td>2.661071e+09</td>\n",
       "      <td>665.225786</td>\n",
       "      <td>1.342793e+09</td>\n",
       "      <td>14.060865</td>\n",
       "      <td>5.595434e+07</td>\n",
       "      <td>0.0</td>\n",
       "      <td>0.0</td>\n",
       "      <td>0.0</td>\n",
       "      <td>0.0</td>\n",
       "    </tr>\n",
       "    <tr>\n",
       "      <th>2018-05-06</th>\n",
       "      <td>9634.538226</td>\n",
       "      <td>2.695999e+09</td>\n",
       "      <td>777.907647</td>\n",
       "      <td>1.967183e+09</td>\n",
       "      <td>14.237159</td>\n",
       "      <td>5.263799e+07</td>\n",
       "      <td>0.0</td>\n",
       "      <td>0.0</td>\n",
       "      <td>0.0</td>\n",
       "      <td>0.0</td>\n",
       "      <td>...</td>\n",
       "      <td>9122.653014</td>\n",
       "      <td>2.179559e+09</td>\n",
       "      <td>676.552564</td>\n",
       "      <td>1.153897e+09</td>\n",
       "      <td>14.249384</td>\n",
       "      <td>5.661672e+07</td>\n",
       "      <td>0.0</td>\n",
       "      <td>0.0</td>\n",
       "      <td>0.0</td>\n",
       "      <td>0.0</td>\n",
       "    </tr>\n",
       "    <tr>\n",
       "      <th>2018-05-07</th>\n",
       "      <td>9766.244485</td>\n",
       "      <td>2.617991e+09</td>\n",
       "      <td>807.067329</td>\n",
       "      <td>1.617672e+09</td>\n",
       "      <td>14.291985</td>\n",
       "      <td>5.092181e+07</td>\n",
       "      <td>0.0</td>\n",
       "      <td>0.0</td>\n",
       "      <td>0.0</td>\n",
       "      <td>0.0</td>\n",
       "      <td>...</td>\n",
       "      <td>9551.135184</td>\n",
       "      <td>1.228125e+09</td>\n",
       "      <td>781.425780</td>\n",
       "      <td>1.005515e+09</td>\n",
       "      <td>15.448140</td>\n",
       "      <td>1.583041e+05</td>\n",
       "      <td>0.0</td>\n",
       "      <td>0.0</td>\n",
       "      <td>0.0</td>\n",
       "      <td>0.0</td>\n",
       "    </tr>\n",
       "  </tbody>\n",
       "</table>\n",
       "<p>5 rows × 30 columns</p>\n",
       "</div>"
      ],
      "text/plain": [
       "            lagged_1_btc_price  lagged_1_btc_volume  lagged_1_eth_price  \\\n",
       "date                                                                      \n",
       "2018-05-03         9024.387512         2.661071e+09          665.225786   \n",
       "2018-05-04         9122.653014         2.179559e+09          676.552564   \n",
       "2018-05-05         9551.135184         1.228125e+09          781.425780   \n",
       "2018-05-06         9634.538226         2.695999e+09          777.907647   \n",
       "2018-05-07         9766.244485         2.617991e+09          807.067329   \n",
       "\n",
       "            lagged_1_eth_volume  lagged_1_bnb_price  lagged_1_bnb_volume  \\\n",
       "date                                                                       \n",
       "2018-05-03         1.342793e+09           14.060865         5.595434e+07   \n",
       "2018-05-04         1.153897e+09           14.249384         5.661672e+07   \n",
       "2018-05-05         1.005515e+09           15.448140         1.583041e+05   \n",
       "2018-05-06         1.967183e+09           14.237159         5.263799e+07   \n",
       "2018-05-07         1.617672e+09           14.291985         5.092181e+07   \n",
       "\n",
       "            lagged_1_vet_price  lagged_1_vet_volume  lagged_1_btt_price  \\\n",
       "date                                                                      \n",
       "2018-05-03                 0.0                  0.0                 0.0   \n",
       "2018-05-04                 0.0                  0.0                 0.0   \n",
       "2018-05-05                 0.0                  0.0                 0.0   \n",
       "2018-05-06                 0.0                  0.0                 0.0   \n",
       "2018-05-07                 0.0                  0.0                 0.0   \n",
       "\n",
       "            lagged_1_btt_volume  ...  lagged_3_btc_price  lagged_3_btc_volume  \\\n",
       "date                             ...                                            \n",
       "2018-05-03                  0.0  ...         9325.628851         2.827555e+09   \n",
       "2018-05-04                  0.0  ...         9198.189510         2.508704e+09   \n",
       "2018-05-05                  0.0  ...         9024.387512         2.661071e+09   \n",
       "2018-05-06                  0.0  ...         9122.653014         2.179559e+09   \n",
       "2018-05-07                  0.0  ...         9551.135184         1.228125e+09   \n",
       "\n",
       "            lagged_3_eth_price  lagged_3_eth_volume  lagged_3_bnb_price  \\\n",
       "date                                                                      \n",
       "2018-05-03          680.120495         1.180427e+09           14.947588   \n",
       "2018-05-04          662.732736         1.271088e+09           14.246400   \n",
       "2018-05-05          665.225786         1.342793e+09           14.060865   \n",
       "2018-05-06          676.552564         1.153897e+09           14.249384   \n",
       "2018-05-07          781.425780         1.005515e+09           15.448140   \n",
       "\n",
       "            lagged_3_bnb_volume  lagged_3_vet_price  lagged_3_vet_volume  \\\n",
       "date                                                                       \n",
       "2018-05-03         7.530959e+07                 0.0                  0.0   \n",
       "2018-05-04         5.727836e+07                 0.0                  0.0   \n",
       "2018-05-05         5.595434e+07                 0.0                  0.0   \n",
       "2018-05-06         5.661672e+07                 0.0                  0.0   \n",
       "2018-05-07         1.583041e+05                 0.0                  0.0   \n",
       "\n",
       "            lagged_3_btt_price  lagged_3_btt_volume  \n",
       "date                                                 \n",
       "2018-05-03                 0.0                  0.0  \n",
       "2018-05-04                 0.0                  0.0  \n",
       "2018-05-05                 0.0                  0.0  \n",
       "2018-05-06                 0.0                  0.0  \n",
       "2018-05-07                 0.0                  0.0  \n",
       "\n",
       "[5 rows x 30 columns]"
      ]
     },
     "execution_count": 62,
     "metadata": {},
     "output_type": "execute_result"
    }
   ],
   "source": [
    "X_lagged.head()"
   ]
  },
  {
   "cell_type": "code",
   "execution_count": 63,
   "metadata": {
    "ExecuteTime": {
     "end_time": "2021-05-05T17:18:04.627670Z",
     "start_time": "2021-05-05T17:18:04.616289Z"
    }
   },
   "outputs": [],
   "source": [
    "X_train, X_test, y_train, y_test = train_test_split(X_lagged, y.iloc[3:], test_size = 0.2)"
   ]
  },
  {
   "cell_type": "code",
   "execution_count": 65,
   "metadata": {
    "ExecuteTime": {
     "end_time": "2021-05-05T17:18:35.963136Z",
     "start_time": "2021-05-05T17:18:35.960071Z"
    }
   },
   "outputs": [],
   "source": [
    "RFR = RandomForestRegressor()"
   ]
  },
  {
   "cell_type": "code",
   "execution_count": 66,
   "metadata": {
    "ExecuteTime": {
     "end_time": "2021-05-05T17:18:46.661388Z",
     "start_time": "2021-05-05T17:18:45.569178Z"
    }
   },
   "outputs": [
    {
     "name": "stderr",
     "output_type": "stream",
     "text": [
      "<ipython-input-66-9be308012765>:1: DataConversionWarning: A column-vector y was passed when a 1d array was expected. Please change the shape of y to (n_samples,), for example using ravel().\n",
      "  RFR.fit(X_train, y_train)\n"
     ]
    },
    {
     "data": {
      "text/plain": [
       "RandomForestRegressor()"
      ]
     },
     "execution_count": 66,
     "metadata": {},
     "output_type": "execute_result"
    }
   ],
   "source": [
    "RFR.fit(X_train, y_train)"
   ]
  },
  {
   "cell_type": "code",
   "execution_count": 68,
   "metadata": {
    "ExecuteTime": {
     "end_time": "2021-05-05T17:19:12.599051Z",
     "start_time": "2021-05-05T17:19:12.572009Z"
    }
   },
   "outputs": [],
   "source": [
    "predictions = RFR.predict(X_test)"
   ]
  },
  {
   "cell_type": "code",
   "execution_count": 70,
   "metadata": {
    "ExecuteTime": {
     "end_time": "2021-05-05T17:20:39.741833Z",
     "start_time": "2021-05-05T17:20:39.732864Z"
    }
   },
   "outputs": [
    {
     "data": {
      "text/plain": [
       "2.2786913912172206e-07"
      ]
     },
     "execution_count": 70,
     "metadata": {},
     "output_type": "execute_result"
    }
   ],
   "source": [
    "mean_squared_error(y_test, predictions)"
   ]
  },
  {
   "cell_type": "code",
   "execution_count": 86,
   "metadata": {
    "ExecuteTime": {
     "end_time": "2021-05-05T17:28:20.573244Z",
     "start_time": "2021-05-05T17:28:20.568280Z"
    }
   },
   "outputs": [],
   "source": [
    "to_plot = y_test.copy()\n",
    "to_plot['predictions'] = predictions"
   ]
  },
  {
   "cell_type": "code",
   "execution_count": 93,
   "metadata": {
    "ExecuteTime": {
     "end_time": "2021-05-05T17:30:02.747284Z",
     "start_time": "2021-05-05T17:30:02.622260Z"
    }
   },
   "outputs": [
    {
     "data": {
      "image/png": "[encoded data removed]",
      "text/plain": [
       "<Figure size 1296x432 with 1 Axes>"
      ]
     },
     "metadata": {
      "needs_background": "light"
     },
     "output_type": "display_data"
    }
   ],
   "source": [
    "to_plot.plot(figsize = [18, 6])\n",
    "plt.show()"
   ]
  },
  {
   "cell_type": "code",
   "execution_count": null,
   "metadata": {},
   "outputs": [],
   "source": []
  }
 ],
 "metadata": {
  "kernelspec": {
   "display_name": "Python 3",
   "language": "python",
   "name": "python3"
  },
  "language_info": {
   "codemirror_mode": {
    "name": "ipython",
    "version": 3
   },
   "file_extension": ".py",
   "mimetype": "text/x-python",
   "name": "python",
   "nbconvert_exporter": "python",
   "pygments_lexer": "ipython3",
   "version": "3.8.5"
  },
  "toc": {
   "base_numbering": 1,
   "nav_menu": {},
   "number_sections": false,
   "sideBar": true,
   "skip_h1_title": false,
   "title_cell": "Table of Contents",
   "title_sidebar": "Contents",
   "toc_cell": false,
   "toc_position": {},
   "toc_section_display": true,
   "toc_window_display": false
  },
  "varInspector": {
   "cols": {
    "lenName": 16,
    "lenType": 16,
    "lenVar": 40
   },
   "kernels_config": {
    "python": {
     "delete_cmd_postfix": "",
     "delete_cmd_prefix": "del ",
     "library": "var_list.py",
     "varRefreshCmd": "print(var_dic_list())"
    },
    "r": {
     "delete_cmd_postfix": ") ",
     "delete_cmd_prefix": "rm(",
     "library": "var_list.r",
     "varRefreshCmd": "cat(var_dic_list()) "
    }
   },
   "types_to_exclude": [
    "module",
    "function",
    "builtin_function_or_method",
    "instance",
    "_Feature"
   ],
   "window_display": false
  }
 },
 "nbformat": 4,
 "nbformat_minor": 4
}
