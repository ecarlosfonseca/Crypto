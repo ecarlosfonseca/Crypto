{
 "cells": [
  {
   "cell_type": "code",
   "execution_count": 31,
   "metadata": {
    "ExecuteTime": {
     "end_time": "2021-05-14T16:45:29.880477Z",
     "start_time": "2021-05-14T16:45:29.875819Z"
    }
   },
   "outputs": [],
   "source": [
    "import pandas as pd\n",
    "\n",
    "import matplotlib.pyplot as plt\n",
    "\n",
    "from sklearn.ensemble import RandomForestRegressor\n",
    "from sklearn.model_selection import train_test_split\n",
    "from sklearn.metrics import mean_squared_error, r2_score\n",
    "\n",
    "from sklearn.model_selection import TimeSeriesSplit\n",
    "from tqdm import tqdm_notebook as tqdm\n",
    "\n",
    "import pickle\n",
    "import joblib"
   ]
  },
  {
   "cell_type": "code",
   "execution_count": 32,
   "metadata": {
    "ExecuteTime": {
     "end_time": "2021-05-14T16:45:29.901912Z",
     "start_time": "2021-05-14T16:45:29.884721Z"
    }
   },
   "outputs": [],
   "source": [
    "data = pd.read_csv('df_to_model.csv').set_index('date')"
   ]
  },
  {
   "cell_type": "code",
   "execution_count": 33,
   "metadata": {
    "ExecuteTime": {
     "end_time": "2021-05-14T16:45:29.915260Z",
     "start_time": "2021-05-14T16:45:29.903803Z"
    }
   },
   "outputs": [
    {
     "data": {
      "text/html": [
       "<div>\n",
       "<style scoped>\n",
       "    .dataframe tbody tr th:only-of-type {\n",
       "        vertical-align: middle;\n",
       "    }\n",
       "\n",
       "    .dataframe tbody tr th {\n",
       "        vertical-align: top;\n",
       "    }\n",
       "\n",
       "    .dataframe thead th {\n",
       "        text-align: right;\n",
       "    }\n",
       "</style>\n",
       "<table border=\"1\" class=\"dataframe\">\n",
       "  <thead>\n",
       "    <tr style=\"text-align: right;\">\n",
       "      <th></th>\n",
       "      <th>btc_price</th>\n",
       "      <th>btc_volume</th>\n",
       "      <th>eth_price</th>\n",
       "      <th>eth_volume</th>\n",
       "      <th>bnb_price</th>\n",
       "      <th>bnb_volume</th>\n",
       "      <th>vet_price</th>\n",
       "      <th>vet_volume</th>\n",
       "      <th>btt_price</th>\n",
       "      <th>btt_volume</th>\n",
       "      <th>hot_price</th>\n",
       "      <th>hot_volume</th>\n",
       "    </tr>\n",
       "    <tr>\n",
       "      <th>date</th>\n",
       "      <th></th>\n",
       "      <th></th>\n",
       "      <th></th>\n",
       "      <th></th>\n",
       "      <th></th>\n",
       "      <th></th>\n",
       "      <th></th>\n",
       "      <th></th>\n",
       "      <th></th>\n",
       "      <th></th>\n",
       "      <th></th>\n",
       "      <th></th>\n",
       "    </tr>\n",
       "  </thead>\n",
       "  <tbody>\n",
       "    <tr>\n",
       "      <th>2013-04-28</th>\n",
       "      <td>135.30</td>\n",
       "      <td>0.0</td>\n",
       "      <td>0.0</td>\n",
       "      <td>0.0</td>\n",
       "      <td>0.0</td>\n",
       "      <td>0.0</td>\n",
       "      <td>0.0</td>\n",
       "      <td>0.0</td>\n",
       "      <td>0.0</td>\n",
       "      <td>0.0</td>\n",
       "      <td>0.0</td>\n",
       "      <td>0.0</td>\n",
       "    </tr>\n",
       "    <tr>\n",
       "      <th>2013-04-29</th>\n",
       "      <td>141.96</td>\n",
       "      <td>0.0</td>\n",
       "      <td>0.0</td>\n",
       "      <td>0.0</td>\n",
       "      <td>0.0</td>\n",
       "      <td>0.0</td>\n",
       "      <td>0.0</td>\n",
       "      <td>0.0</td>\n",
       "      <td>0.0</td>\n",
       "      <td>0.0</td>\n",
       "      <td>0.0</td>\n",
       "      <td>0.0</td>\n",
       "    </tr>\n",
       "    <tr>\n",
       "      <th>2013-04-30</th>\n",
       "      <td>135.30</td>\n",
       "      <td>0.0</td>\n",
       "      <td>0.0</td>\n",
       "      <td>0.0</td>\n",
       "      <td>0.0</td>\n",
       "      <td>0.0</td>\n",
       "      <td>0.0</td>\n",
       "      <td>0.0</td>\n",
       "      <td>0.0</td>\n",
       "      <td>0.0</td>\n",
       "      <td>0.0</td>\n",
       "      <td>0.0</td>\n",
       "    </tr>\n",
       "    <tr>\n",
       "      <th>2013-05-01</th>\n",
       "      <td>117.00</td>\n",
       "      <td>0.0</td>\n",
       "      <td>0.0</td>\n",
       "      <td>0.0</td>\n",
       "      <td>0.0</td>\n",
       "      <td>0.0</td>\n",
       "      <td>0.0</td>\n",
       "      <td>0.0</td>\n",
       "      <td>0.0</td>\n",
       "      <td>0.0</td>\n",
       "      <td>0.0</td>\n",
       "      <td>0.0</td>\n",
       "    </tr>\n",
       "    <tr>\n",
       "      <th>2013-05-02</th>\n",
       "      <td>103.43</td>\n",
       "      <td>0.0</td>\n",
       "      <td>0.0</td>\n",
       "      <td>0.0</td>\n",
       "      <td>0.0</td>\n",
       "      <td>0.0</td>\n",
       "      <td>0.0</td>\n",
       "      <td>0.0</td>\n",
       "      <td>0.0</td>\n",
       "      <td>0.0</td>\n",
       "      <td>0.0</td>\n",
       "      <td>0.0</td>\n",
       "    </tr>\n",
       "  </tbody>\n",
       "</table>\n",
       "</div>"
      ],
      "text/plain": [
       "            btc_price  btc_volume  eth_price  eth_volume  bnb_price  \\\n",
       "date                                                                  \n",
       "2013-04-28     135.30         0.0        0.0         0.0        0.0   \n",
       "2013-04-29     141.96         0.0        0.0         0.0        0.0   \n",
       "2013-04-30     135.30         0.0        0.0         0.0        0.0   \n",
       "2013-05-01     117.00         0.0        0.0         0.0        0.0   \n",
       "2013-05-02     103.43         0.0        0.0         0.0        0.0   \n",
       "\n",
       "            bnb_volume  vet_price  vet_volume  btt_price  btt_volume  \\\n",
       "date                                                                   \n",
       "2013-04-28         0.0        0.0         0.0        0.0         0.0   \n",
       "2013-04-29         0.0        0.0         0.0        0.0         0.0   \n",
       "2013-04-30         0.0        0.0         0.0        0.0         0.0   \n",
       "2013-05-01         0.0        0.0         0.0        0.0         0.0   \n",
       "2013-05-02         0.0        0.0         0.0        0.0         0.0   \n",
       "\n",
       "            hot_price  hot_volume  \n",
       "date                               \n",
       "2013-04-28        0.0         0.0  \n",
       "2013-04-29        0.0         0.0  \n",
       "2013-04-30        0.0         0.0  \n",
       "2013-05-01        0.0         0.0  \n",
       "2013-05-02        0.0         0.0  "
      ]
     },
     "execution_count": 33,
     "metadata": {},
     "output_type": "execute_result"
    }
   ],
   "source": [
    "data.head()"
   ]
  },
  {
   "cell_type": "code",
   "execution_count": 34,
   "metadata": {
    "ExecuteTime": {
     "end_time": "2021-05-14T16:45:29.919578Z",
     "start_time": "2021-05-14T16:45:29.916822Z"
    }
   },
   "outputs": [
    {
     "data": {
      "text/plain": [
       "'2021-05-05'"
      ]
     },
     "execution_count": 34,
     "metadata": {},
     "output_type": "execute_result"
    }
   ],
   "source": [
    "data.index.max()"
   ]
  },
  {
   "cell_type": "markdown",
   "metadata": {},
   "source": [
    "Lets try to predict hot price and verify if it can be predicted by past information from other coins. For this we will drop its volume and create some lagged values."
   ]
  },
  {
   "cell_type": "code",
   "execution_count": 35,
   "metadata": {
    "ExecuteTime": {
     "end_time": "2021-05-14T16:45:29.923439Z",
     "start_time": "2021-05-14T16:45:29.920620Z"
    }
   },
   "outputs": [],
   "source": [
    "data = data.loc[data.hot_price!=0]\n",
    "data = data.sort_index()"
   ]
  },
  {
   "cell_type": "code",
   "execution_count": 36,
   "metadata": {
    "ExecuteTime": {
     "end_time": "2021-05-14T16:45:29.927349Z",
     "start_time": "2021-05-14T16:45:29.924597Z"
    }
   },
   "outputs": [],
   "source": [
    "X = data.drop(columns = ['hot_price', 'hot_volume'])\n",
    "y = data[['hot_price']]"
   ]
  },
  {
   "cell_type": "code",
   "execution_count": 37,
   "metadata": {
    "ExecuteTime": {
     "end_time": "2021-05-14T16:45:29.937588Z",
     "start_time": "2021-05-14T16:45:29.931450Z"
    }
   },
   "outputs": [],
   "source": [
    "lag_1 = X.shift(1)\n",
    "lag_1.columns = ['lagged_1_' + column for column in X.columns]\n",
    "\n",
    "lag_2 = X.shift(2)\n",
    "lag_2.columns = ['lagged_2_' + column for column in X.columns]\n",
    "\n",
    "lag_3 = X.shift(3)\n",
    "lag_3.columns = ['lagged_3_' + column for column in X.columns]\n",
    "\n",
    "lag_4 = X.shift(4)\n",
    "lag_4.columns = ['lagged_4_' + column for column in X.columns]\n",
    "\n",
    "lag_5 = X.shift(4)\n",
    "lag_5.columns = ['lagged_5_' + column for column in X.columns]"
   ]
  },
  {
   "cell_type": "code",
   "execution_count": 38,
   "metadata": {
    "ExecuteTime": {
     "end_time": "2021-05-14T16:45:29.947202Z",
     "start_time": "2021-05-14T16:45:29.941868Z"
    },
    "scrolled": true
   },
   "outputs": [],
   "source": [
    "X_lagged = (\n",
    "    lag_1.iloc[5:]\n",
    "    .join(lag_2.iloc[5:])\n",
    "    .join(lag_3.iloc[5:])\n",
    "    .join(lag_4.iloc[5:])\n",
    "    .join(lag_5.iloc[5:])\n",
    ")"
   ]
  },
  {
   "cell_type": "code",
   "execution_count": 39,
   "metadata": {
    "ExecuteTime": {
     "end_time": "2021-05-14T16:45:29.960486Z",
     "start_time": "2021-05-14T16:45:29.948092Z"
    }
   },
   "outputs": [
    {
     "data": {
      "text/html": [
       "<div>\n",
       "<style scoped>\n",
       "    .dataframe tbody tr th:only-of-type {\n",
       "        vertical-align: middle;\n",
       "    }\n",
       "\n",
       "    .dataframe tbody tr th {\n",
       "        vertical-align: top;\n",
       "    }\n",
       "\n",
       "    .dataframe thead th {\n",
       "        text-align: right;\n",
       "    }\n",
       "</style>\n",
       "<table border=\"1\" class=\"dataframe\">\n",
       "  <thead>\n",
       "    <tr style=\"text-align: right;\">\n",
       "      <th></th>\n",
       "      <th>lagged_1_btc_price</th>\n",
       "      <th>lagged_1_btc_volume</th>\n",
       "      <th>lagged_1_eth_price</th>\n",
       "      <th>lagged_1_eth_volume</th>\n",
       "      <th>lagged_1_bnb_price</th>\n",
       "      <th>lagged_1_bnb_volume</th>\n",
       "      <th>lagged_1_vet_price</th>\n",
       "      <th>lagged_1_vet_volume</th>\n",
       "      <th>lagged_1_btt_price</th>\n",
       "      <th>lagged_1_btt_volume</th>\n",
       "      <th>...</th>\n",
       "      <th>lagged_5_btc_price</th>\n",
       "      <th>lagged_5_btc_volume</th>\n",
       "      <th>lagged_5_eth_price</th>\n",
       "      <th>lagged_5_eth_volume</th>\n",
       "      <th>lagged_5_bnb_price</th>\n",
       "      <th>lagged_5_bnb_volume</th>\n",
       "      <th>lagged_5_vet_price</th>\n",
       "      <th>lagged_5_vet_volume</th>\n",
       "      <th>lagged_5_btt_price</th>\n",
       "      <th>lagged_5_btt_volume</th>\n",
       "    </tr>\n",
       "    <tr>\n",
       "      <th>date</th>\n",
       "      <th></th>\n",
       "      <th></th>\n",
       "      <th></th>\n",
       "      <th></th>\n",
       "      <th></th>\n",
       "      <th></th>\n",
       "      <th></th>\n",
       "      <th></th>\n",
       "      <th></th>\n",
       "      <th></th>\n",
       "      <th></th>\n",
       "      <th></th>\n",
       "      <th></th>\n",
       "      <th></th>\n",
       "      <th></th>\n",
       "      <th></th>\n",
       "      <th></th>\n",
       "      <th></th>\n",
       "      <th></th>\n",
       "      <th></th>\n",
       "      <th></th>\n",
       "    </tr>\n",
       "  </thead>\n",
       "  <tbody>\n",
       "    <tr>\n",
       "      <th>2018-05-05</th>\n",
       "      <td>9551.135184</td>\n",
       "      <td>1.228125e+09</td>\n",
       "      <td>781.425780</td>\n",
       "      <td>1.005515e+09</td>\n",
       "      <td>15.448140</td>\n",
       "      <td>1.583041e+05</td>\n",
       "      <td>0.0</td>\n",
       "      <td>0.0</td>\n",
       "      <td>0.0</td>\n",
       "      <td>0.0</td>\n",
       "      <td>...</td>\n",
       "      <td>9198.189510</td>\n",
       "      <td>2.508704e+09</td>\n",
       "      <td>662.732736</td>\n",
       "      <td>1.271088e+09</td>\n",
       "      <td>14.246400</td>\n",
       "      <td>5.727836e+07</td>\n",
       "      <td>0.0</td>\n",
       "      <td>0.0</td>\n",
       "      <td>0.0</td>\n",
       "      <td>0.0</td>\n",
       "    </tr>\n",
       "    <tr>\n",
       "      <th>2018-05-06</th>\n",
       "      <td>9634.538226</td>\n",
       "      <td>2.695999e+09</td>\n",
       "      <td>777.907647</td>\n",
       "      <td>1.967183e+09</td>\n",
       "      <td>14.237159</td>\n",
       "      <td>5.263799e+07</td>\n",
       "      <td>0.0</td>\n",
       "      <td>0.0</td>\n",
       "      <td>0.0</td>\n",
       "      <td>0.0</td>\n",
       "      <td>...</td>\n",
       "      <td>9024.387512</td>\n",
       "      <td>2.661071e+09</td>\n",
       "      <td>665.225786</td>\n",
       "      <td>1.342793e+09</td>\n",
       "      <td>14.060865</td>\n",
       "      <td>5.595434e+07</td>\n",
       "      <td>0.0</td>\n",
       "      <td>0.0</td>\n",
       "      <td>0.0</td>\n",
       "      <td>0.0</td>\n",
       "    </tr>\n",
       "    <tr>\n",
       "      <th>2018-05-07</th>\n",
       "      <td>9766.244485</td>\n",
       "      <td>2.617991e+09</td>\n",
       "      <td>807.067329</td>\n",
       "      <td>1.617672e+09</td>\n",
       "      <td>14.291985</td>\n",
       "      <td>5.092181e+07</td>\n",
       "      <td>0.0</td>\n",
       "      <td>0.0</td>\n",
       "      <td>0.0</td>\n",
       "      <td>0.0</td>\n",
       "      <td>...</td>\n",
       "      <td>9122.653014</td>\n",
       "      <td>2.179559e+09</td>\n",
       "      <td>676.552564</td>\n",
       "      <td>1.153897e+09</td>\n",
       "      <td>14.249384</td>\n",
       "      <td>5.661672e+07</td>\n",
       "      <td>0.0</td>\n",
       "      <td>0.0</td>\n",
       "      <td>0.0</td>\n",
       "      <td>0.0</td>\n",
       "    </tr>\n",
       "    <tr>\n",
       "      <th>2018-05-08</th>\n",
       "      <td>9583.871746</td>\n",
       "      <td>2.626418e+09</td>\n",
       "      <td>785.892744</td>\n",
       "      <td>1.742487e+09</td>\n",
       "      <td>13.900460</td>\n",
       "      <td>5.472827e+07</td>\n",
       "      <td>0.0</td>\n",
       "      <td>0.0</td>\n",
       "      <td>0.0</td>\n",
       "      <td>0.0</td>\n",
       "      <td>...</td>\n",
       "      <td>9551.135184</td>\n",
       "      <td>1.228125e+09</td>\n",
       "      <td>781.425780</td>\n",
       "      <td>1.005515e+09</td>\n",
       "      <td>15.448140</td>\n",
       "      <td>1.583041e+05</td>\n",
       "      <td>0.0</td>\n",
       "      <td>0.0</td>\n",
       "      <td>0.0</td>\n",
       "      <td>0.0</td>\n",
       "    </tr>\n",
       "    <tr>\n",
       "      <th>2018-05-09</th>\n",
       "      <td>9308.265026</td>\n",
       "      <td>2.767086e+09</td>\n",
       "      <td>748.813141</td>\n",
       "      <td>2.808728e+09</td>\n",
       "      <td>13.685279</td>\n",
       "      <td>4.355853e+07</td>\n",
       "      <td>0.0</td>\n",
       "      <td>0.0</td>\n",
       "      <td>0.0</td>\n",
       "      <td>0.0</td>\n",
       "      <td>...</td>\n",
       "      <td>9634.538226</td>\n",
       "      <td>2.695999e+09</td>\n",
       "      <td>777.907647</td>\n",
       "      <td>1.967183e+09</td>\n",
       "      <td>14.237159</td>\n",
       "      <td>5.263799e+07</td>\n",
       "      <td>0.0</td>\n",
       "      <td>0.0</td>\n",
       "      <td>0.0</td>\n",
       "      <td>0.0</td>\n",
       "    </tr>\n",
       "  </tbody>\n",
       "</table>\n",
       "<p>5 rows × 50 columns</p>\n",
       "</div>"
      ],
      "text/plain": [
       "            lagged_1_btc_price  lagged_1_btc_volume  lagged_1_eth_price  \\\n",
       "date                                                                      \n",
       "2018-05-05         9551.135184         1.228125e+09          781.425780   \n",
       "2018-05-06         9634.538226         2.695999e+09          777.907647   \n",
       "2018-05-07         9766.244485         2.617991e+09          807.067329   \n",
       "2018-05-08         9583.871746         2.626418e+09          785.892744   \n",
       "2018-05-09         9308.265026         2.767086e+09          748.813141   \n",
       "\n",
       "            lagged_1_eth_volume  lagged_1_bnb_price  lagged_1_bnb_volume  \\\n",
       "date                                                                       \n",
       "2018-05-05         1.005515e+09           15.448140         1.583041e+05   \n",
       "2018-05-06         1.967183e+09           14.237159         5.263799e+07   \n",
       "2018-05-07         1.617672e+09           14.291985         5.092181e+07   \n",
       "2018-05-08         1.742487e+09           13.900460         5.472827e+07   \n",
       "2018-05-09         2.808728e+09           13.685279         4.355853e+07   \n",
       "\n",
       "            lagged_1_vet_price  lagged_1_vet_volume  lagged_1_btt_price  \\\n",
       "date                                                                      \n",
       "2018-05-05                 0.0                  0.0                 0.0   \n",
       "2018-05-06                 0.0                  0.0                 0.0   \n",
       "2018-05-07                 0.0                  0.0                 0.0   \n",
       "2018-05-08                 0.0                  0.0                 0.0   \n",
       "2018-05-09                 0.0                  0.0                 0.0   \n",
       "\n",
       "            lagged_1_btt_volume  ...  lagged_5_btc_price  lagged_5_btc_volume  \\\n",
       "date                             ...                                            \n",
       "2018-05-05                  0.0  ...         9198.189510         2.508704e+09   \n",
       "2018-05-06                  0.0  ...         9024.387512         2.661071e+09   \n",
       "2018-05-07                  0.0  ...         9122.653014         2.179559e+09   \n",
       "2018-05-08                  0.0  ...         9551.135184         1.228125e+09   \n",
       "2018-05-09                  0.0  ...         9634.538226         2.695999e+09   \n",
       "\n",
       "            lagged_5_eth_price  lagged_5_eth_volume  lagged_5_bnb_price  \\\n",
       "date                                                                      \n",
       "2018-05-05          662.732736         1.271088e+09           14.246400   \n",
       "2018-05-06          665.225786         1.342793e+09           14.060865   \n",
       "2018-05-07          676.552564         1.153897e+09           14.249384   \n",
       "2018-05-08          781.425780         1.005515e+09           15.448140   \n",
       "2018-05-09          777.907647         1.967183e+09           14.237159   \n",
       "\n",
       "            lagged_5_bnb_volume  lagged_5_vet_price  lagged_5_vet_volume  \\\n",
       "date                                                                       \n",
       "2018-05-05         5.727836e+07                 0.0                  0.0   \n",
       "2018-05-06         5.595434e+07                 0.0                  0.0   \n",
       "2018-05-07         5.661672e+07                 0.0                  0.0   \n",
       "2018-05-08         1.583041e+05                 0.0                  0.0   \n",
       "2018-05-09         5.263799e+07                 0.0                  0.0   \n",
       "\n",
       "            lagged_5_btt_price  lagged_5_btt_volume  \n",
       "date                                                 \n",
       "2018-05-05                 0.0                  0.0  \n",
       "2018-05-06                 0.0                  0.0  \n",
       "2018-05-07                 0.0                  0.0  \n",
       "2018-05-08                 0.0                  0.0  \n",
       "2018-05-09                 0.0                  0.0  \n",
       "\n",
       "[5 rows x 50 columns]"
      ]
     },
     "execution_count": 39,
     "metadata": {},
     "output_type": "execute_result"
    }
   ],
   "source": [
    "X_lagged.head()"
   ]
  },
  {
   "cell_type": "code",
   "execution_count": 40,
   "metadata": {
    "ExecuteTime": {
     "end_time": "2021-05-14T16:45:29.968167Z",
     "start_time": "2021-05-14T16:45:29.962462Z"
    }
   },
   "outputs": [],
   "source": [
    "X_train, X_test, y_train, y_test = train_test_split(X_lagged, y.iloc[5:], test_size = 0.2, random_state = 42)"
   ]
  },
  {
   "cell_type": "code",
   "execution_count": 41,
   "metadata": {
    "ExecuteTime": {
     "end_time": "2021-05-14T16:45:29.982020Z",
     "start_time": "2021-05-14T16:45:29.969441Z"
    }
   },
   "outputs": [
    {
     "data": {
      "text/html": [
       "<div>\n",
       "<style scoped>\n",
       "    .dataframe tbody tr th:only-of-type {\n",
       "        vertical-align: middle;\n",
       "    }\n",
       "\n",
       "    .dataframe tbody tr th {\n",
       "        vertical-align: top;\n",
       "    }\n",
       "\n",
       "    .dataframe thead th {\n",
       "        text-align: right;\n",
       "    }\n",
       "</style>\n",
       "<table border=\"1\" class=\"dataframe\">\n",
       "  <thead>\n",
       "    <tr style=\"text-align: right;\">\n",
       "      <th></th>\n",
       "      <th>lagged_1_btc_price</th>\n",
       "      <th>lagged_1_btc_volume</th>\n",
       "      <th>lagged_1_eth_price</th>\n",
       "      <th>lagged_1_eth_volume</th>\n",
       "      <th>lagged_1_bnb_price</th>\n",
       "      <th>lagged_1_bnb_volume</th>\n",
       "      <th>lagged_1_vet_price</th>\n",
       "      <th>lagged_1_vet_volume</th>\n",
       "      <th>lagged_1_btt_price</th>\n",
       "      <th>lagged_1_btt_volume</th>\n",
       "      <th>...</th>\n",
       "      <th>lagged_5_btc_price</th>\n",
       "      <th>lagged_5_btc_volume</th>\n",
       "      <th>lagged_5_eth_price</th>\n",
       "      <th>lagged_5_eth_volume</th>\n",
       "      <th>lagged_5_bnb_price</th>\n",
       "      <th>lagged_5_bnb_volume</th>\n",
       "      <th>lagged_5_vet_price</th>\n",
       "      <th>lagged_5_vet_volume</th>\n",
       "      <th>lagged_5_btt_price</th>\n",
       "      <th>lagged_5_btt_volume</th>\n",
       "    </tr>\n",
       "    <tr>\n",
       "      <th>date</th>\n",
       "      <th></th>\n",
       "      <th></th>\n",
       "      <th></th>\n",
       "      <th></th>\n",
       "      <th></th>\n",
       "      <th></th>\n",
       "      <th></th>\n",
       "      <th></th>\n",
       "      <th></th>\n",
       "      <th></th>\n",
       "      <th></th>\n",
       "      <th></th>\n",
       "      <th></th>\n",
       "      <th></th>\n",
       "      <th></th>\n",
       "      <th></th>\n",
       "      <th></th>\n",
       "      <th></th>\n",
       "      <th></th>\n",
       "      <th></th>\n",
       "      <th></th>\n",
       "    </tr>\n",
       "  </thead>\n",
       "  <tbody>\n",
       "    <tr>\n",
       "      <th>2018-05-07</th>\n",
       "      <td>9766.244485</td>\n",
       "      <td>2.617991e+09</td>\n",
       "      <td>807.067329</td>\n",
       "      <td>1.617672e+09</td>\n",
       "      <td>14.291985</td>\n",
       "      <td>5.092181e+07</td>\n",
       "      <td>0.000000</td>\n",
       "      <td>0.000000e+00</td>\n",
       "      <td>0.000000</td>\n",
       "      <td>0.000000e+00</td>\n",
       "      <td>...</td>\n",
       "      <td>9122.653014</td>\n",
       "      <td>2.179559e+09</td>\n",
       "      <td>676.552564</td>\n",
       "      <td>1.153897e+09</td>\n",
       "      <td>14.249384</td>\n",
       "      <td>5.661672e+07</td>\n",
       "      <td>0.000000</td>\n",
       "      <td>0.000000e+00</td>\n",
       "      <td>0.000000</td>\n",
       "      <td>0.000000e+00</td>\n",
       "    </tr>\n",
       "    <tr>\n",
       "      <th>2018-05-11</th>\n",
       "      <td>9248.960396</td>\n",
       "      <td>2.363841e+09</td>\n",
       "      <td>743.639816</td>\n",
       "      <td>1.517876e+09</td>\n",
       "      <td>14.550455</td>\n",
       "      <td>7.902337e+07</td>\n",
       "      <td>0.000000</td>\n",
       "      <td>0.000000e+00</td>\n",
       "      <td>0.000000</td>\n",
       "      <td>0.000000e+00</td>\n",
       "      <td>...</td>\n",
       "      <td>9583.871746</td>\n",
       "      <td>2.626418e+09</td>\n",
       "      <td>785.892744</td>\n",
       "      <td>1.742487e+09</td>\n",
       "      <td>13.900460</td>\n",
       "      <td>5.472827e+07</td>\n",
       "      <td>0.000000</td>\n",
       "      <td>0.000000e+00</td>\n",
       "      <td>0.000000</td>\n",
       "      <td>0.000000e+00</td>\n",
       "    </tr>\n",
       "    <tr>\n",
       "      <th>2019-12-16</th>\n",
       "      <td>7081.740255</td>\n",
       "      <td>1.949776e+10</td>\n",
       "      <td>141.844865</td>\n",
       "      <td>6.322939e+09</td>\n",
       "      <td>14.367813</td>\n",
       "      <td>1.604249e+08</td>\n",
       "      <td>0.005468</td>\n",
       "      <td>7.769884e+07</td>\n",
       "      <td>0.000312</td>\n",
       "      <td>7.643433e+07</td>\n",
       "      <td>...</td>\n",
       "      <td>7197.426826</td>\n",
       "      <td>1.801694e+10</td>\n",
       "      <td>143.122979</td>\n",
       "      <td>5.883082e+09</td>\n",
       "      <td>14.749628</td>\n",
       "      <td>1.665882e+08</td>\n",
       "      <td>0.006058</td>\n",
       "      <td>7.965008e+07</td>\n",
       "      <td>0.000291</td>\n",
       "      <td>5.640098e+07</td>\n",
       "    </tr>\n",
       "    <tr>\n",
       "      <th>2020-01-29</th>\n",
       "      <td>8879.335549</td>\n",
       "      <td>3.966154e+10</td>\n",
       "      <td>169.736436</td>\n",
       "      <td>1.243546e+10</td>\n",
       "      <td>17.635344</td>\n",
       "      <td>2.309468e+08</td>\n",
       "      <td>0.005776</td>\n",
       "      <td>1.285588e+08</td>\n",
       "      <td>0.000357</td>\n",
       "      <td>6.713877e+07</td>\n",
       "      <td>...</td>\n",
       "      <td>8432.096676</td>\n",
       "      <td>3.069173e+10</td>\n",
       "      <td>162.409480</td>\n",
       "      <td>1.104350e+10</td>\n",
       "      <td>17.025803</td>\n",
       "      <td>2.258828e+08</td>\n",
       "      <td>0.005574</td>\n",
       "      <td>1.222548e+08</td>\n",
       "      <td>0.000347</td>\n",
       "      <td>6.816687e+07</td>\n",
       "    </tr>\n",
       "    <tr>\n",
       "      <th>2020-08-24</th>\n",
       "      <td>11676.385305</td>\n",
       "      <td>1.957278e+10</td>\n",
       "      <td>395.885018</td>\n",
       "      <td>1.061298e+10</td>\n",
       "      <td>22.175839</td>\n",
       "      <td>2.077040e+08</td>\n",
       "      <td>0.018295</td>\n",
       "      <td>1.502142e+08</td>\n",
       "      <td>0.000429</td>\n",
       "      <td>2.815055e+07</td>\n",
       "      <td>...</td>\n",
       "      <td>11733.278971</td>\n",
       "      <td>2.338420e+10</td>\n",
       "      <td>406.574469</td>\n",
       "      <td>1.285473e+10</td>\n",
       "      <td>22.307583</td>\n",
       "      <td>2.409817e+08</td>\n",
       "      <td>0.017845</td>\n",
       "      <td>2.027235e+08</td>\n",
       "      <td>0.000470</td>\n",
       "      <td>3.616012e+07</td>\n",
       "    </tr>\n",
       "  </tbody>\n",
       "</table>\n",
       "<p>5 rows × 50 columns</p>\n",
       "</div>"
      ],
      "text/plain": [
       "            lagged_1_btc_price  lagged_1_btc_volume  lagged_1_eth_price  \\\n",
       "date                                                                      \n",
       "2018-05-07         9766.244485         2.617991e+09          807.067329   \n",
       "2018-05-11         9248.960396         2.363841e+09          743.639816   \n",
       "2019-12-16         7081.740255         1.949776e+10          141.844865   \n",
       "2020-01-29         8879.335549         3.966154e+10          169.736436   \n",
       "2020-08-24        11676.385305         1.957278e+10          395.885018   \n",
       "\n",
       "            lagged_1_eth_volume  lagged_1_bnb_price  lagged_1_bnb_volume  \\\n",
       "date                                                                       \n",
       "2018-05-07         1.617672e+09           14.291985         5.092181e+07   \n",
       "2018-05-11         1.517876e+09           14.550455         7.902337e+07   \n",
       "2019-12-16         6.322939e+09           14.367813         1.604249e+08   \n",
       "2020-01-29         1.243546e+10           17.635344         2.309468e+08   \n",
       "2020-08-24         1.061298e+10           22.175839         2.077040e+08   \n",
       "\n",
       "            lagged_1_vet_price  lagged_1_vet_volume  lagged_1_btt_price  \\\n",
       "date                                                                      \n",
       "2018-05-07            0.000000         0.000000e+00            0.000000   \n",
       "2018-05-11            0.000000         0.000000e+00            0.000000   \n",
       "2019-12-16            0.005468         7.769884e+07            0.000312   \n",
       "2020-01-29            0.005776         1.285588e+08            0.000357   \n",
       "2020-08-24            0.018295         1.502142e+08            0.000429   \n",
       "\n",
       "            lagged_1_btt_volume  ...  lagged_5_btc_price  lagged_5_btc_volume  \\\n",
       "date                             ...                                            \n",
       "2018-05-07         0.000000e+00  ...         9122.653014         2.179559e+09   \n",
       "2018-05-11         0.000000e+00  ...         9583.871746         2.626418e+09   \n",
       "2019-12-16         7.643433e+07  ...         7197.426826         1.801694e+10   \n",
       "2020-01-29         6.713877e+07  ...         8432.096676         3.069173e+10   \n",
       "2020-08-24         2.815055e+07  ...        11733.278971         2.338420e+10   \n",
       "\n",
       "            lagged_5_eth_price  lagged_5_eth_volume  lagged_5_bnb_price  \\\n",
       "date                                                                      \n",
       "2018-05-07          676.552564         1.153897e+09           14.249384   \n",
       "2018-05-11          785.892744         1.742487e+09           13.900460   \n",
       "2019-12-16          143.122979         5.883082e+09           14.749628   \n",
       "2020-01-29          162.409480         1.104350e+10           17.025803   \n",
       "2020-08-24          406.574469         1.285473e+10           22.307583   \n",
       "\n",
       "            lagged_5_bnb_volume  lagged_5_vet_price  lagged_5_vet_volume  \\\n",
       "date                                                                       \n",
       "2018-05-07         5.661672e+07            0.000000         0.000000e+00   \n",
       "2018-05-11         5.472827e+07            0.000000         0.000000e+00   \n",
       "2019-12-16         1.665882e+08            0.006058         7.965008e+07   \n",
       "2020-01-29         2.258828e+08            0.005574         1.222548e+08   \n",
       "2020-08-24         2.409817e+08            0.017845         2.027235e+08   \n",
       "\n",
       "            lagged_5_btt_price  lagged_5_btt_volume  \n",
       "date                                                 \n",
       "2018-05-07            0.000000         0.000000e+00  \n",
       "2018-05-11            0.000000         0.000000e+00  \n",
       "2019-12-16            0.000291         5.640098e+07  \n",
       "2020-01-29            0.000347         6.816687e+07  \n",
       "2020-08-24            0.000470         3.616012e+07  \n",
       "\n",
       "[5 rows x 50 columns]"
      ]
     },
     "execution_count": 41,
     "metadata": {},
     "output_type": "execute_result"
    }
   ],
   "source": [
    "X_train.head()"
   ]
  },
  {
   "cell_type": "code",
   "execution_count": 42,
   "metadata": {
    "ExecuteTime": {
     "end_time": "2021-05-14T16:45:29.985327Z",
     "start_time": "2021-05-14T16:45:29.983219Z"
    }
   },
   "outputs": [],
   "source": [
    "RFR = RandomForestRegressor()"
   ]
  },
  {
   "cell_type": "code",
   "execution_count": 43,
   "metadata": {
    "ExecuteTime": {
     "end_time": "2021-05-14T16:45:31.634823Z",
     "start_time": "2021-05-14T16:45:29.986587Z"
    }
   },
   "outputs": [
    {
     "name": "stderr",
     "output_type": "stream",
     "text": [
      "<ipython-input-43-9be308012765>:1: DataConversionWarning: A column-vector y was passed when a 1d array was expected. Please change the shape of y to (n_samples,), for example using ravel().\n",
      "  RFR.fit(X_train, y_train)\n"
     ]
    },
    {
     "data": {
      "text/plain": [
       "RandomForestRegressor()"
      ]
     },
     "execution_count": 43,
     "metadata": {},
     "output_type": "execute_result"
    }
   ],
   "source": [
    "RFR.fit(X_train, y_train)"
   ]
  },
  {
   "cell_type": "code",
   "execution_count": 44,
   "metadata": {
    "ExecuteTime": {
     "end_time": "2021-05-14T16:45:31.644581Z",
     "start_time": "2021-05-14T16:45:31.635700Z"
    }
   },
   "outputs": [],
   "source": [
    "predictions = RFR.predict(X_test)"
   ]
  },
  {
   "cell_type": "code",
   "execution_count": 45,
   "metadata": {
    "ExecuteTime": {
     "end_time": "2021-05-14T16:45:31.649723Z",
     "start_time": "2021-05-14T16:45:31.645389Z"
    }
   },
   "outputs": [
    {
     "name": "stdout",
     "output_type": "stream",
     "text": [
      "Mean Squared Error:  2.49206176762166e-07\n",
      "r2_score:  0.9757922037006618\n"
     ]
    }
   ],
   "source": [
    "print('Mean Squared Error: ', mean_squared_error(y_test, predictions))\n",
    "print('r2_score: ', r2_score(y_test, predictions))"
   ]
  },
  {
   "cell_type": "code",
   "execution_count": 46,
   "metadata": {
    "ExecuteTime": {
     "end_time": "2021-05-14T16:45:31.654515Z",
     "start_time": "2021-05-14T16:45:31.651588Z"
    }
   },
   "outputs": [],
   "source": [
    "to_plot = y_test.copy()\n",
    "to_plot['predictions'] = predictions"
   ]
  },
  {
   "cell_type": "code",
   "execution_count": 47,
   "metadata": {
    "ExecuteTime": {
     "end_time": "2021-05-14T16:45:31.731232Z",
     "start_time": "2021-05-14T16:45:31.655534Z"
    }
   },
   "outputs": [
    {
     "data": {
      "image/png": "[encoded data removed]",
      "text/plain": [
       "<Figure size 1296x432 with 1 Axes>"
      ]
     },
     "metadata": {
      "needs_background": "light"
     },
     "output_type": "display_data"
    }
   ],
   "source": [
    "to_plot.plot(figsize = [18, 6])\n",
    "plt.show()"
   ]
  },
  {
   "cell_type": "markdown",
   "metadata": {
    "ExecuteTime": {
     "end_time": "2021-05-11T13:31:40.072161Z",
     "start_time": "2021-05-11T13:31:40.069179Z"
    }
   },
   "source": [
    "# Parameter Tuning"
   ]
  },
  {
   "cell_type": "markdown",
   "metadata": {
    "ExecuteTime": {
     "end_time": "2021-05-11T13:32:35.922253Z",
     "start_time": "2021-05-11T13:32:35.919234Z"
    }
   },
   "source": [
    "## N_estimators"
   ]
  },
  {
   "cell_type": "code",
   "execution_count": 48,
   "metadata": {
    "ExecuteTime": {
     "end_time": "2021-05-14T16:45:31.733728Z",
     "start_time": "2021-05-14T16:45:31.732177Z"
    }
   },
   "outputs": [],
   "source": [
    "nb_estim = [50, 100, 150, 200, 300, 350, 400, 450]"
   ]
  },
  {
   "cell_type": "code",
   "execution_count": 49,
   "metadata": {
    "ExecuteTime": {
     "end_time": "2021-05-14T16:46:04.731134Z",
     "start_time": "2021-05-14T16:45:31.737068Z"
    }
   },
   "outputs": [
    {
     "name": "stderr",
     "output_type": "stream",
     "text": [
      "<ipython-input-49-5873d98c287a>:3: DataConversionWarning: A column-vector y was passed when a 1d array was expected. Please change the shape of y to (n_samples,), for example using ravel().\n",
      "  RFR.fit(X_train, y_train)\n"
     ]
    },
    {
     "name": "stdout",
     "output_type": "stream",
     "text": [
      "50\n",
      "Mean Squared Error:  2.509880615811846e-07\n",
      "r2_score:  0.9756191120651007\n"
     ]
    },
    {
     "name": "stderr",
     "output_type": "stream",
     "text": [
      "<ipython-input-49-5873d98c287a>:3: DataConversionWarning: A column-vector y was passed when a 1d array was expected. Please change the shape of y to (n_samples,), for example using ravel().\n",
      "  RFR.fit(X_train, y_train)\n"
     ]
    },
    {
     "name": "stdout",
     "output_type": "stream",
     "text": [
      "100\n",
      "Mean Squared Error:  2.740927814572531e-07\n",
      "r2_score:  0.9733747280791976\n"
     ]
    },
    {
     "name": "stderr",
     "output_type": "stream",
     "text": [
      "<ipython-input-49-5873d98c287a>:3: DataConversionWarning: A column-vector y was passed when a 1d array was expected. Please change the shape of y to (n_samples,), for example using ravel().\n",
      "  RFR.fit(X_train, y_train)\n"
     ]
    },
    {
     "name": "stdout",
     "output_type": "stream",
     "text": [
      "150\n",
      "Mean Squared Error:  2.6401774350568594e-07\n",
      "r2_score:  0.9743534135580588\n"
     ]
    },
    {
     "name": "stderr",
     "output_type": "stream",
     "text": [
      "<ipython-input-49-5873d98c287a>:3: DataConversionWarning: A column-vector y was passed when a 1d array was expected. Please change the shape of y to (n_samples,), for example using ravel().\n",
      "  RFR.fit(X_train, y_train)\n"
     ]
    },
    {
     "name": "stdout",
     "output_type": "stream",
     "text": [
      "200\n",
      "Mean Squared Error:  2.423393489469927e-07\n",
      "r2_score:  0.9764592448275395\n"
     ]
    },
    {
     "name": "stderr",
     "output_type": "stream",
     "text": [
      "<ipython-input-49-5873d98c287a>:3: DataConversionWarning: A column-vector y was passed when a 1d array was expected. Please change the shape of y to (n_samples,), for example using ravel().\n",
      "  RFR.fit(X_train, y_train)\n"
     ]
    },
    {
     "name": "stdout",
     "output_type": "stream",
     "text": [
      "300\n",
      "Mean Squared Error:  2.3741952489705875e-07\n",
      "r2_score:  0.9769371547251865\n"
     ]
    },
    {
     "name": "stderr",
     "output_type": "stream",
     "text": [
      "<ipython-input-49-5873d98c287a>:3: DataConversionWarning: A column-vector y was passed when a 1d array was expected. Please change the shape of y to (n_samples,), for example using ravel().\n",
      "  RFR.fit(X_train, y_train)\n"
     ]
    },
    {
     "name": "stdout",
     "output_type": "stream",
     "text": [
      "350\n",
      "Mean Squared Error:  2.418916999776662e-07\n",
      "r2_score:  0.9765027292836789\n"
     ]
    },
    {
     "name": "stderr",
     "output_type": "stream",
     "text": [
      "<ipython-input-49-5873d98c287a>:3: DataConversionWarning: A column-vector y was passed when a 1d array was expected. Please change the shape of y to (n_samples,), for example using ravel().\n",
      "  RFR.fit(X_train, y_train)\n"
     ]
    },
    {
     "name": "stdout",
     "output_type": "stream",
     "text": [
      "400\n",
      "Mean Squared Error:  2.366682981397812e-07\n",
      "r2_score:  0.9770101286159265\n"
     ]
    },
    {
     "name": "stderr",
     "output_type": "stream",
     "text": [
      "<ipython-input-49-5873d98c287a>:3: DataConversionWarning: A column-vector y was passed when a 1d array was expected. Please change the shape of y to (n_samples,), for example using ravel().\n",
      "  RFR.fit(X_train, y_train)\n"
     ]
    },
    {
     "name": "stdout",
     "output_type": "stream",
     "text": [
      "450\n",
      "Mean Squared Error:  2.3826765630864758e-07\n",
      "r2_score:  0.9768547675519889\n"
     ]
    }
   ],
   "source": [
    "for n in nb_estim:\n",
    "    RFR = RandomForestRegressor(n_estimators = n, random_state = 42)\n",
    "    RFR.fit(X_train, y_train)\n",
    "    predictions = RFR.predict(X_test)\n",
    "    print(n)\n",
    "    print('Mean Squared Error: ', mean_squared_error(y_test, predictions))\n",
    "    print('r2_score: ', r2_score(y_test, predictions))"
   ]
  },
  {
   "cell_type": "markdown",
   "metadata": {},
   "source": [
    "## Min_samples_split"
   ]
  },
  {
   "cell_type": "code",
   "execution_count": 50,
   "metadata": {
    "ExecuteTime": {
     "end_time": "2021-05-14T16:46:04.734946Z",
     "start_time": "2021-05-14T16:46:04.733579Z"
    }
   },
   "outputs": [],
   "source": [
    "min_samp_spl = [2, 3, 4, 5]"
   ]
  },
  {
   "cell_type": "code",
   "execution_count": 51,
   "metadata": {
    "ExecuteTime": {
     "end_time": "2021-05-14T16:46:29.763034Z",
     "start_time": "2021-05-14T16:46:04.735900Z"
    }
   },
   "outputs": [
    {
     "name": "stderr",
     "output_type": "stream",
     "text": [
      "<ipython-input-51-ee366a5d92cf>:3: DataConversionWarning: A column-vector y was passed when a 1d array was expected. Please change the shape of y to (n_samples,), for example using ravel().\n",
      "  RFR.fit(X_train, y_train)\n"
     ]
    },
    {
     "name": "stdout",
     "output_type": "stream",
     "text": [
      "2\n",
      "Mean Squared Error:  2.366682981397812e-07\n",
      "r2_score:  0.9770101286159265\n"
     ]
    },
    {
     "name": "stderr",
     "output_type": "stream",
     "text": [
      "<ipython-input-51-ee366a5d92cf>:3: DataConversionWarning: A column-vector y was passed when a 1d array was expected. Please change the shape of y to (n_samples,), for example using ravel().\n",
      "  RFR.fit(X_train, y_train)\n"
     ]
    },
    {
     "name": "stdout",
     "output_type": "stream",
     "text": [
      "3\n",
      "Mean Squared Error:  2.3544382030217134e-07\n",
      "r2_score:  0.9771290739424471\n"
     ]
    },
    {
     "name": "stderr",
     "output_type": "stream",
     "text": [
      "<ipython-input-51-ee366a5d92cf>:3: DataConversionWarning: A column-vector y was passed when a 1d array was expected. Please change the shape of y to (n_samples,), for example using ravel().\n",
      "  RFR.fit(X_train, y_train)\n"
     ]
    },
    {
     "name": "stdout",
     "output_type": "stream",
     "text": [
      "4\n",
      "Mean Squared Error:  2.517129183508244e-07\n",
      "r2_score:  0.9755486997452553\n"
     ]
    },
    {
     "name": "stderr",
     "output_type": "stream",
     "text": [
      "<ipython-input-51-ee366a5d92cf>:3: DataConversionWarning: A column-vector y was passed when a 1d array was expected. Please change the shape of y to (n_samples,), for example using ravel().\n",
      "  RFR.fit(X_train, y_train)\n"
     ]
    },
    {
     "name": "stdout",
     "output_type": "stream",
     "text": [
      "5\n",
      "Mean Squared Error:  2.6255045237545045e-07\n",
      "r2_score:  0.9744959456784663\n"
     ]
    }
   ],
   "source": [
    "for n in min_samp_spl:\n",
    "    RFR = RandomForestRegressor(n_estimators = 400, min_samples_split = n, random_state = 42)\n",
    "    RFR.fit(X_train, y_train)\n",
    "    predictions = RFR.predict(X_test)\n",
    "    print(n)\n",
    "    print('Mean Squared Error: ', mean_squared_error(y_test, predictions))\n",
    "    print('r2_score: ', r2_score(y_test, predictions))"
   ]
  },
  {
   "cell_type": "markdown",
   "metadata": {},
   "source": [
    "## Min_samples_leaf"
   ]
  },
  {
   "cell_type": "code",
   "execution_count": 52,
   "metadata": {
    "ExecuteTime": {
     "end_time": "2021-05-14T16:46:29.765459Z",
     "start_time": "2021-05-14T16:46:29.763945Z"
    }
   },
   "outputs": [],
   "source": [
    "min_samp_leaf = [1, 2, 3, 4, 5, 6, 7, 8]"
   ]
  },
  {
   "cell_type": "code",
   "execution_count": 53,
   "metadata": {
    "ExecuteTime": {
     "end_time": "2021-05-14T16:47:12.701344Z",
     "start_time": "2021-05-14T16:46:29.766306Z"
    }
   },
   "outputs": [
    {
     "name": "stderr",
     "output_type": "stream",
     "text": [
      "<ipython-input-53-91e1351d279f>:3: DataConversionWarning: A column-vector y was passed when a 1d array was expected. Please change the shape of y to (n_samples,), for example using ravel().\n",
      "  RFR.fit(X_train, y_train)\n"
     ]
    },
    {
     "name": "stdout",
     "output_type": "stream",
     "text": [
      "1\n",
      "Mean Squared Error:  2.3544382030217134e-07\n",
      "r2_score:  0.9771290739424471\n"
     ]
    },
    {
     "name": "stderr",
     "output_type": "stream",
     "text": [
      "<ipython-input-53-91e1351d279f>:3: DataConversionWarning: A column-vector y was passed when a 1d array was expected. Please change the shape of y to (n_samples,), for example using ravel().\n",
      "  RFR.fit(X_train, y_train)\n"
     ]
    },
    {
     "name": "stdout",
     "output_type": "stream",
     "text": [
      "2\n",
      "Mean Squared Error:  2.591416381622171e-07\n",
      "r2_score:  0.9748270766366488\n"
     ]
    },
    {
     "name": "stderr",
     "output_type": "stream",
     "text": [
      "<ipython-input-53-91e1351d279f>:3: DataConversionWarning: A column-vector y was passed when a 1d array was expected. Please change the shape of y to (n_samples,), for example using ravel().\n",
      "  RFR.fit(X_train, y_train)\n"
     ]
    },
    {
     "name": "stdout",
     "output_type": "stream",
     "text": [
      "3\n",
      "Mean Squared Error:  2.735929060149202e-07\n",
      "r2_score:  0.9734232857957047\n"
     ]
    },
    {
     "name": "stderr",
     "output_type": "stream",
     "text": [
      "<ipython-input-53-91e1351d279f>:3: DataConversionWarning: A column-vector y was passed when a 1d array was expected. Please change the shape of y to (n_samples,), for example using ravel().\n",
      "  RFR.fit(X_train, y_train)\n"
     ]
    },
    {
     "name": "stdout",
     "output_type": "stream",
     "text": [
      "4\n",
      "Mean Squared Error:  2.753508461682663e-07\n",
      "r2_score:  0.973252520136155\n"
     ]
    },
    {
     "name": "stderr",
     "output_type": "stream",
     "text": [
      "<ipython-input-53-91e1351d279f>:3: DataConversionWarning: A column-vector y was passed when a 1d array was expected. Please change the shape of y to (n_samples,), for example using ravel().\n",
      "  RFR.fit(X_train, y_train)\n"
     ]
    },
    {
     "name": "stdout",
     "output_type": "stream",
     "text": [
      "5\n",
      "Mean Squared Error:  2.800578568698838e-07\n",
      "r2_score:  0.9727952828488453\n"
     ]
    },
    {
     "name": "stderr",
     "output_type": "stream",
     "text": [
      "<ipython-input-53-91e1351d279f>:3: DataConversionWarning: A column-vector y was passed when a 1d array was expected. Please change the shape of y to (n_samples,), for example using ravel().\n",
      "  RFR.fit(X_train, y_train)\n"
     ]
    },
    {
     "name": "stdout",
     "output_type": "stream",
     "text": [
      "6\n",
      "Mean Squared Error:  2.719585070584863e-07\n",
      "r2_score:  0.9735820507088512\n"
     ]
    },
    {
     "name": "stderr",
     "output_type": "stream",
     "text": [
      "<ipython-input-53-91e1351d279f>:3: DataConversionWarning: A column-vector y was passed when a 1d array was expected. Please change the shape of y to (n_samples,), for example using ravel().\n",
      "  RFR.fit(X_train, y_train)\n"
     ]
    },
    {
     "name": "stdout",
     "output_type": "stream",
     "text": [
      "7\n",
      "Mean Squared Error:  2.759289705320313e-07\n",
      "r2_score:  0.9731963613482167\n"
     ]
    },
    {
     "name": "stderr",
     "output_type": "stream",
     "text": [
      "<ipython-input-53-91e1351d279f>:3: DataConversionWarning: A column-vector y was passed when a 1d array was expected. Please change the shape of y to (n_samples,), for example using ravel().\n",
      "  RFR.fit(X_train, y_train)\n"
     ]
    },
    {
     "name": "stdout",
     "output_type": "stream",
     "text": [
      "8\n",
      "Mean Squared Error:  2.858285685870081e-07\n",
      "r2_score:  0.9722347180363461\n"
     ]
    }
   ],
   "source": [
    "for n in min_samp_leaf:\n",
    "    RFR = RandomForestRegressor(n_estimators = 400, min_samples_split = 3, min_samples_leaf = n, random_state = 42)\n",
    "    RFR.fit(X_train, y_train)\n",
    "    predictions = RFR.predict(X_test)\n",
    "    print(n)\n",
    "    print('Mean Squared Error: ', mean_squared_error(y_test, predictions))\n",
    "    print('r2_score: ', r2_score(y_test, predictions))"
   ]
  },
  {
   "cell_type": "code",
   "execution_count": 54,
   "metadata": {
    "ExecuteTime": {
     "end_time": "2021-05-14T16:47:19.066314Z",
     "start_time": "2021-05-14T16:47:12.702430Z"
    }
   },
   "outputs": [
    {
     "name": "stderr",
     "output_type": "stream",
     "text": [
      "<ipython-input-54-508cc065c618>:2: DataConversionWarning: A column-vector y was passed when a 1d array was expected. Please change the shape of y to (n_samples,), for example using ravel().\n",
      "  RFR.fit(X_train, y_train)\n"
     ]
    },
    {
     "name": "stdout",
     "output_type": "stream",
     "text": [
      "Mean Squared Error:  2.3544382030217134e-07\n",
      "r2_score:  0.9771290739424471\n"
     ]
    }
   ],
   "source": [
    "RFR = RandomForestRegressor(n_estimators = 400, min_samples_split = 3, min_samples_leaf = 1, random_state = 42)\n",
    "RFR.fit(X_train, y_train)\n",
    "predictions = RFR.predict(X_test)\n",
    "print('Mean Squared Error: ', mean_squared_error(y_test, predictions))\n",
    "print('r2_score: ', r2_score(y_test, predictions))"
   ]
  },
  {
   "cell_type": "code",
   "execution_count": 55,
   "metadata": {
    "ExecuteTime": {
     "end_time": "2021-05-14T16:47:19.144031Z",
     "start_time": "2021-05-14T16:47:19.067438Z"
    }
   },
   "outputs": [
    {
     "data": {
      "image/png": "[encoded data removed]",
      "text/plain": [
       "<Figure size 1296x432 with 1 Axes>"
      ]
     },
     "metadata": {
      "needs_background": "light"
     },
     "output_type": "display_data"
    }
   ],
   "source": [
    "to_plot = y_test.copy()\n",
    "to_plot['predictions'] = predictions\n",
    "to_plot.sort_values(by='date')\n",
    "to_plot.plot(figsize = [18, 6])\n",
    "plt.show()"
   ]
  },
  {
   "cell_type": "markdown",
   "metadata": {},
   "source": [
    "# Feature importance"
   ]
  },
  {
   "cell_type": "code",
   "execution_count": 56,
   "metadata": {
    "ExecuteTime": {
     "end_time": "2021-05-14T16:47:19.477529Z",
     "start_time": "2021-05-14T16:47:19.145005Z"
    }
   },
   "outputs": [
    {
     "name": "stdout",
     "output_type": "stream",
     "text": [
      "Feature ranking:\n",
      "1. feature lagged_1_btt_price (0.360074)\n",
      "2. feature lagged_5_btt_price (0.162685)\n",
      "3. feature lagged_4_btt_price (0.131355)\n",
      "4. feature lagged_2_btt_price (0.109499)\n",
      "5. feature lagged_3_btt_price (0.042020)\n",
      "6. feature lagged_1_vet_price (0.034943)\n",
      "7. feature lagged_5_vet_price (0.029555)\n",
      "8. feature lagged_2_vet_price (0.025940)\n",
      "9. feature lagged_4_vet_price (0.023765)\n",
      "10. feature lagged_1_btc_price (0.011387)\n",
      "11. feature lagged_1_bnb_price (0.010992)\n",
      "12. feature lagged_3_vet_price (0.008754)\n",
      "13. feature lagged_1_btt_volume (0.005313)\n",
      "14. feature lagged_5_vet_volume (0.004364)\n",
      "15. feature lagged_2_btt_volume (0.004165)\n",
      "16. feature lagged_4_vet_volume (0.003941)\n",
      "17. feature lagged_1_eth_price (0.003034)\n",
      "18. feature lagged_3_btc_price (0.002723)\n",
      "19. feature lagged_3_eth_price (0.002578)\n",
      "20. feature lagged_2_btc_price (0.002516)\n",
      "21. feature lagged_2_bnb_price (0.001574)\n",
      "22. feature lagged_4_btc_price (0.001501)\n",
      "23. feature lagged_3_bnb_price (0.001476)\n",
      "24. feature lagged_4_bnb_price (0.001381)\n",
      "25. feature lagged_5_btc_price (0.001304)\n",
      "26. feature lagged_5_bnb_price (0.001230)\n",
      "27. feature lagged_1_bnb_volume (0.000996)\n",
      "28. feature lagged_5_btt_volume (0.000951)\n",
      "29. feature lagged_4_eth_price (0.000898)\n",
      "30. feature lagged_5_eth_price (0.000801)\n",
      "31. feature lagged_3_vet_volume (0.000741)\n",
      "32. feature lagged_3_btt_volume (0.000682)\n",
      "33. feature lagged_3_eth_volume (0.000629)\n",
      "34. feature lagged_3_bnb_volume (0.000573)\n",
      "35. feature lagged_4_btt_volume (0.000561)\n",
      "36. feature lagged_4_btc_volume (0.000550)\n",
      "37. feature lagged_1_vet_volume (0.000481)\n",
      "38. feature lagged_3_btc_volume (0.000457)\n",
      "39. feature lagged_4_eth_volume (0.000407)\n",
      "40. feature lagged_2_eth_volume (0.000406)\n",
      "41. feature lagged_2_vet_volume (0.000398)\n",
      "42. feature lagged_2_bnb_volume (0.000353)\n",
      "43. feature lagged_2_eth_price (0.000351)\n",
      "44. feature lagged_5_eth_volume (0.000349)\n",
      "45. feature lagged_5_btc_volume (0.000317)\n",
      "46. feature lagged_2_btc_volume (0.000315)\n",
      "47. feature lagged_1_btc_volume (0.000276)\n",
      "48. feature lagged_5_bnb_volume (0.000162)\n",
      "49. feature lagged_1_eth_volume (0.000162)\n",
      "50. feature lagged_4_bnb_volume (0.000117)\n"
     ]
    },
    {
     "data": {
      "image/png": "[encoded data removed]",
      "text/plain": [
       "<Figure size 1296x432 with 1 Axes>"
      ]
     },
     "metadata": {
      "needs_background": "light"
     },
     "output_type": "display_data"
    }
   ],
   "source": [
    "importances = pd.Series(data=RFR.feature_importances_, index = X_train.columns)\n",
    "indices = np.argsort(importances)[::-1]\n",
    "print(\"Feature ranking:\")\n",
    "\n",
    "for f in range(X_train.shape[1]):\n",
    "    print(\"%d. feature %s (%f)\" % (f + 1, importances.index[indices[f]], importances[indices[f]]))\n",
    "\n",
    "std = np.std([tree.feature_importances_ for tree in RFR.estimators_], axis=0)\n",
    "\n",
    "plt.figure(figsize = (18,6))\n",
    "plt.title(\"Feature importances\")\n",
    "plt.bar(x=importances.index[indices], height=importances[indices],\n",
    "        color=\"r\", yerr=std[indices], align=\"center\");\n",
    "plt.xticks(range(len(importances.index[indices])), importances.index[indices], rotation=45, ha=\"right\")\n",
    "plt.xlim([-1, X_train.shape[1]])\n",
    "plt.xlabel('Features');\n",
    "plt.ylabel('Importance');\n",
    "\n",
    "plt.show()"
   ]
  },
  {
   "cell_type": "code",
   "execution_count": 59,
   "metadata": {
    "ExecuteTime": {
     "end_time": "2021-05-14T16:48:23.499448Z",
     "start_time": "2021-05-14T16:48:15.252213Z"
    }
   },
   "outputs": [
    {
     "name": "stderr",
     "output_type": "stream",
     "text": [
      "<ipython-input-59-7e5e55ef7490>:1: DataConversionWarning: A column-vector y was passed when a 1d array was expected. Please change the shape of y to (n_samples,), for example using ravel().\n",
      "  RFR.fit(X_lagged, y.iloc[5:])\n"
     ]
    },
    {
     "data": {
      "text/plain": [
       "RandomForestRegressor(min_samples_split=3, n_estimators=400, random_state=42)"
      ]
     },
     "execution_count": 59,
     "metadata": {},
     "output_type": "execute_result"
    }
   ],
   "source": [
    "RFR.fit(X_lagged, y.iloc[5:])"
   ]
  },
  {
   "cell_type": "code",
   "execution_count": 60,
   "metadata": {
    "ExecuteTime": {
     "end_time": "2021-05-14T16:48:25.186535Z",
     "start_time": "2021-05-14T16:48:25.048505Z"
    }
   },
   "outputs": [],
   "source": [
    "with open('columns.json', 'w') as fh: json.dump(X_train.columns.tolist(), fh)\n",
    "\n",
    "with open('dtypes.pickle', 'wb') as fh: pickle.dump(X_train.dtypes, fh)\n",
    "\n",
    "joblib.dump(RFR, 'RFR.pickle');"
   ]
  },
  {
   "cell_type": "code",
   "execution_count": null,
   "metadata": {},
   "outputs": [],
   "source": []
  }
 ],
 "metadata": {
  "kernelspec": {
   "display_name": "Python 3",
   "language": "python",
   "name": "python3"
  },
  "language_info": {
   "codemirror_mode": {
    "name": "ipython",
    "version": 3
   },
   "file_extension": ".py",
   "mimetype": "text/x-python",
   "name": "python",
   "nbconvert_exporter": "python",
   "pygments_lexer": "ipython3",
   "version": "3.8.5"
  },
  "toc": {
   "base_numbering": 1,
   "nav_menu": {},
   "number_sections": false,
   "sideBar": true,
   "skip_h1_title": false,
   "title_cell": "Table of Contents",
   "title_sidebar": "Contents",
   "toc_cell": false,
   "toc_position": {},
   "toc_section_display": true,
   "toc_window_display": false
  },
  "varInspector": {
   "cols": {
    "lenName": 16,
    "lenType": 16,
    "lenVar": 40
   },
   "kernels_config": {
    "python": {
     "delete_cmd_postfix": "",
     "delete_cmd_prefix": "del ",
     "library": "var_list.py",
     "varRefreshCmd": "print(var_dic_list())"
    },
    "r": {
     "delete_cmd_postfix": ") ",
     "delete_cmd_prefix": "rm(",
     "library": "var_list.r",
     "varRefreshCmd": "cat(var_dic_list()) "
    }
   },
   "types_to_exclude": [
    "module",
    "function",
    "builtin_function_or_method",
    "instance",
    "_Feature"
   ],
   "window_display": false
  }
 },
 "nbformat": 4,
 "nbformat_minor": 4
}
